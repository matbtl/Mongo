{
 "cells": [
  {
   "cell_type": "markdown",
   "metadata": {},
   "source": [
    "# Introduction "
   ]
  },
  {
   "cell_type": "markdown",
   "metadata": {},
   "source": [
    "MongoDB est une base de données open source codée en C++ basée sur un concept de stockage sous la forme de documents au format JSON. Le grand avantage de ce système est l'optimisation de la mémoire. Dans une base relationelle, chaque colonne doit être définie au préalable avec une empreinte mémoire et un type de donnée. Dans une base MongoDB si le champ n'est pas présent, il n'apparait pas dans un document et n'impacte pas la mémoire, alors qu'en SQL la place mémoire est utilisée même si le champ est absent, pour spécifier que la valeur est null."
   ]
  },
  {
   "cell_type": "markdown",
   "metadata": {},
   "source": [
    "## Les avantages "
   ]
  },
  {
   "cell_type": "markdown",
   "metadata": {},
   "source": [
    "- Optimisé pour le multi-machines et la réplication de données ;\n",
    "- Pas besoin de jointures entre les tables compte tenu du modèle de données sous forme de documents ;\n",
    "- Un index est créé sur chaque clé pour une rapidité de requêtes ;\n",
    "- Un langage de requêtage aussi puissant que le SQL ;\n",
    "- Optimisation de la mémoire .\n"
   ]
  },
  {
   "cell_type": "markdown",
   "metadata": {},
   "source": [
    "## Concepts basiques\n"
   ]
  },
  {
   "cell_type": "markdown",
   "metadata": {},
   "source": [
    "\n",
    "- Database : une database est un regroupement de collections. Chaque database possède son propre système de fichiers et sa propre authentification. Elle a le même rôle qu'une database en MySQL.\n",
    "- Collection : une collection est un regroupement de documents. C'est une table en MySQL, la principale différence étant qu'elle ne définit pas un schéma de données fixe. Les documents présents dans une collection n'ont pas forcément tous les mêmes champs.\n",
    "- Document : un document est un objet JSON stocké sous la forme de plusieurs paires clé:valeur. C'est l'équivalent d'une ligne dans une table SQL.\n",
    "- Champ : Un champ est l'équivalent d'une colonne en SQL. Il permet de faire des requêtes."
   ]
  },
  {
   "cell_type": "markdown",
   "metadata": {},
   "source": [
    "## Identifiants"
   ]
  },
  {
   "cell_type": "markdown",
   "metadata": {},
   "source": [
    "Tous les documents possèdent un identifiant unique, ce qui permet de le retrouver très efficacement. L'identifiant peut être spécifié lors de l'ajout d'un nouveau document (nom+prenom, adresse email, url, etc). Dans le cas ou aucun identifiant n'est précisé, MongoDB se charge d'en ajouter un. Il est composé d'un nombre stocké sur 12 bytes au format hexadécimal :\n",
    "\n",
    "- Les 4 premiers bytes sont le timestamp de l'ajout du document\n",
    "- Les 3 suivants correspondent à l'identifiant de la machine\n",
    "- Les 2 suivants l'identifiant du processus\n",
    "- Les 3 derniers sont une valeur incrémentale\n"
   ]
  },
  {
   "cell_type": "markdown",
   "metadata": {},
   "source": [
    "## Les types de données"
   ]
  },
  {
   "cell_type": "markdown",
   "metadata": {},
   "source": [
    "Une base de données MongoDB permet de stocker un grand volume de données hétérogènes sans imposer un modèle de données fixe pour tous les documents. Il est conseillé, comme vu plus haut, de bien définir la structure globale pour garder une cohérence tout au long des développements.\n",
    "\n",
    "- Integer : entier relatif stocké sur 32 ou 64 bits.\n",
    "- Double : nombre décimal stocké sur 64 bits.\n",
    "- String : chaine de caractère (encodée en utf-8)\n",
    "- Booléen : True ou False\n",
    "- Object : sous-objet stocké au format JSON\n",
    "- Date : date au format UNIX (nombre de ms écoulées depuis le 1er janvier 1970) stockée sur 64 bits.\n",
    "- Array : stocker une liste d'éléments au format atomique ou d'objets\n",
    "\n",
    "D'autres types sont disponibles et vous pouvez les trouver https://docs.mongodb.com/manual/reference/bson-types/"
   ]
  },
  {
   "cell_type": "markdown",
   "metadata": {},
   "source": [
    "# Installation\n"
   ]
  },
  {
   "cell_type": "markdown",
   "metadata": {},
   "source": [
    "L'installation peut se faire de plusieurs manières.\n",
    "\n",
    "- Directement depuis les sources ou à partir de packages.  \n",
    "Liens vers le tutorial https://docs.mongodb.com/manual/tutorial/install-mongodb-on-ubuntu/\n",
    "\n",
    "Sur une Debian 9 Stretch:\n",
    "\n",
    "```bash\n",
    "export http_proxy=http://147.215.1.189:3128\n",
    "export https_proxy=http://147.215.1.189:3128\n",
    "apt-get update\n",
    "apt-get install -y mongodb-org\n",
    "```\n",
    "\n",
    "Démarrage du service\n",
    "\n",
    "Vérifier que le service Mongo est démarré\n",
    "\n",
    "```bash\n",
    "> service mongodb status\n",
    "\n",
    "\n",
    "● mongodb.service - An object/document-oriented database\n",
    "   Loaded: loaded (/lib/systemd/system/mongodb.service; enabled; vendor preset:\n",
    "   Active: active (running) since Mon 2018-11-25 13:51:14 CET; 18min ago\n",
    "     Docs: man:mongod(1)\n",
    " Main PID: 22845 (mongod)\n",
    "    Tasks: 16 (limit: 4915)\n",
    "   CGroup: /system.slice/mongodb.service\n",
    "           └─22845 /usr/bin/mongod --unixSocketPrefix=/run/mongodb --config /etc\n",
    "```\n",
    "\n",
    "ou le démarrer avec \n",
    " \n",
    "```bash\n",
    "> service mongodb start\n",
    "```\n",
    "\n",
    "\n",
    "- Ou en instanciant un conteneur Docker. L'avantage de Docker est qu'il n'installe aucune dépendance sur votre machine et laisse son environnement propre. Lien vers le tutorial : https://hub.docker.com/_/mongo/\n",
    "\n",
    "\n",
    "```bash\n",
    "> docker run --name my-mongo -d -p 27017:27017 mongo\n",
    "```\n",
    "\n",
    "Pour vérifier que le conteneur est bien lancé on peut regarder les logs avec\n",
    "\n",
    "\n",
    "```bash\n",
    "> docker logs my-mongo\n",
    "```"
   ]
  },
  {
   "cell_type": "markdown",
   "metadata": {},
   "source": [
    "# Connexion"
   ]
  },
  {
   "cell_type": "markdown",
   "metadata": {},
   "source": [
    "\n",
    "Pour se connecter à une base Mongo deux solutions sont possibles. En ligne de commande ou via un gestionnaire de BDD comme Robo3T https://robomongo.org/ . Dans les deux cas, la syntaxe Mongo est utilisée pour effectuer des requêtes. L'avantage de Robo3T est qu'il possède une interface permettant de visualiser très simplement les données.\n",
    "\n",
    "Dans un terminal utilisateur standard, la commande mongo permet d'obtenir un shell interactif:\n",
    "\n",
    "```bash\n",
    "student@debian:~$ mongo\n",
    "MongoDB shell version: 3.2.11\n",
    "connecting to: test\n",
    ">\n",
    "```\n",
    "\n",
    "Le port par défaut de Mongo est le 27017."
   ]
  },
  {
   "cell_type": "markdown",
   "metadata": {},
   "source": [
    "# Création d'un modèle de données\n"
   ]
  },
  {
   "cell_type": "markdown",
   "metadata": {},
   "source": [
    "La création d'un modèle de données clair et adapté est une tâche importante et primordiale. Ce modèle de données doit être réfléchi à court et long terme et doit prendre en compte la capacité de stockage et les besoins métiers."
   ]
  },
  {
   "cell_type": "markdown",
   "metadata": {},
   "source": [
    "## Database"
   ]
  },
  {
   "cell_type": "markdown",
   "metadata": {},
   "source": [
    "\n",
    "A partir du shell Mongo, on peut afficher les databases disponibles. Au démarrage, aucune n'est créée:\n",
    "```\n",
    "> show dbs\n",
    "admin   0.000GB\n",
    "config  0.000GB\n",
    "local   0.000GB\n",
    "```\n",
    "\n",
    "Aucun database n'est présente\n",
    "```\n",
    "> use test\n",
    "switched to db test\n",
    "```\n",
    "\n",
    "Pour supprimer définitivement une database:\n",
    "\n",
    "```\n",
    "> db.dropDatabase()\n",
    "```\n",
    "Comme vous pouvez le deviner cette commande est à utiliser avec précaution."
   ]
  },
  {
   "cell_type": "markdown",
   "metadata": {},
   "source": [
    "## Collection"
   ]
  },
  {
   "cell_type": "markdown",
   "metadata": {},
   "source": [
    "Les collections correspondent aux tables en SQL. Elles sont des sous-ensembles d'une database. Pour créer une collection il faut auparavant s'être référencé sur une database.\n",
    "\n",
    "```\n",
    "show dbs\n",
    "use <YOUR_DB_NAME>\n",
    "db.createCollection(<YOUR_COLLECTION_NAME>)\n",
    "show collections\n",
    "```\n",
    "\n",
    "Comme pour les databases on peut vouloir supprimer définitivement une collection.\n",
    "\n",
    "```\n",
    "db.<YOUR_COLLECTION_NAME>.drop()\n",
    "show collections\n",
    "```\n"
   ]
  },
  {
   "cell_type": "markdown",
   "metadata": {},
   "source": [
    "## Document"
   ]
  },
  {
   "cell_type": "markdown",
   "metadata": {},
   "source": [
    "Insertion\n",
    "Un document (objet JSON) est un sous-ensemble d'une collection qui est lui même une sous-partie d'une database. Pour insérer un document il faut donc se référencer sur une database et sur la collection souhaitée.\n",
    "\n",
    "```\n",
    "use <YOUR_DB_NAME>\n",
    "db.createCollection(<YOUR_COLLECTION_NAME>)\n",
    "show collections\n",
    "db.<YOUR_COLLECTION_NAME>.insert({\n",
    "    firstname : \"Thomas\",\n",
    "    lastname : \"Shelby\",\n",
    "    position : \"director\",\n",
    "    company : \"Peaky Blinders\"})\n",
    "```\n",
    "\n",
    "Si vous ne précisez pas d'identifiant unique (id du document), MongoDB se charge de le remplir avec les règles définies précédement. Une bonne pratique est de trouver une règle permettant de retrouver facilement et efficacement un document sans avoir à faire une requête complexe et obliger la base à rechercher dans ses champs. Une technique est de prendre le hash d'une combinaison des champs qui permet de créer une clé unique SHA128(firstname+lastname+position) par exemple.\n",
    "\n",
    "```\n",
    "use <YOUR_DB_NAME>\n",
    "show collections\n",
    "db.<YOUR_COLLECTION_NAME>.insert({\n",
    "    firstname : \"Thomas\",\n",
    "    lastname : \"Shelby\",\n",
    "    position : \"CEO\",\n",
    "    gender : \"Male\",\n",
    "    age : 35,\n",
    "    description : \"Thomas 'Tommy' Michael Shelby M.P. OBE, is the leader of the Birmingham criminal gang Peaky Blinders and the patriarch of the Shelby Family. His experiences during and after the First World War have left him disillusioned and determined to move his family up in the world.\",\n",
    "    nicknames : [\"Tom\", \"Tommy\", \"Thomas\"],\n",
    "    company : \"Peaky Blinders\",\n",
    "    episodes : [1,2,4,5,6]\n",
    "    })\n",
    "```\n",
    "Pour des soucis de performances, si un grand nombre de documents doivent être insérés très rapidement sans surcharger les appels réseaux, il est possible de passer une liste JSON d'objets à la fonction insert.\n",
    "\n",
    "```\n",
    "db.<YOUR_COLLECTION_NAME>.insert([\n",
    "{\n",
    "    firstname : \"Arthur\",\n",
    "    lastname : \"Shelby\",\n",
    "    position : \"Associate\",\n",
    "    gender : \"Male\",\n",
    "    age : 38,\n",
    "    description : \"Arthur Shelby Jr. is the eldest of the Shelby siblings and the tough member of Peaky Blinders, the Deputy Vice President Shelby Company Limited. He's also a member of the ICA.\",\n",
    "    company : \"Peaky Blinders\",\n",
    "    episodes : [1,4,6]\n",
    "\n",
    "},{\n",
    "    firstname : \"John\",\n",
    "    lastname : \"Shelby\",\n",
    "    position : \"Associate\",\n",
    "    gender : \"Male\",\n",
    "    age : 30,\n",
    "    description : \"John Michael Shelby, also called Johnny or John Boy, was the third of Shelby siblings and a member of the Peaky Blinders.\",\n",
    "    nicknames : [\"Johnny\", \"John Boy\"],\n",
    "    company : \"Peaky Blinders\",\n",
    "    episodes : [4,5,6]\n",
    "},{\n",
    "    firstname : \"Ada\",\n",
    "    lastname : \"Thorne\",\n",
    "    position : \"HR\",\n",
    "    gender : \"Female\",\n",
    "    age : 28,\n",
    "    description : \"Ada Thorne is the fourth and only female of the Shelby sibling. She's the Head of Acquisitions of the Shelby Company Limited.\",\n",
    "    nicknames : [\"Ada Shelby\"],\n",
    "    company : \"Peaky Blinders\",\n",
    "    episodes : [1,2,6]\n",
    "},{\n",
    "    firstname : \"Michael\",\n",
    "    lastname : \"Gray\",\n",
    "    position : \"Accounting\",\n",
    "    gender : \"Male\",\n",
    "    age : 21,\n",
    "    description : \"Michael Gray is the son of Polly Shelby, his father is dead, and cousin of the Shelby siblings. He is the Chief Accountant in the Shelby Company Limited.\",\n",
    "    nicknames : [\"Henry Johnson\", \"Jobbie Muncher\", \"Mickey\"],\n",
    "    company : \"Peaky Blinders\",\n",
    "    episodes : [5,6]\n",
    "},{\n",
    "    firstname : \"Polly\",\n",
    "    lastname : \"Gray\",\n",
    "    gender : \"Female\",\n",
    "    age : 45,\n",
    "    position : \"CFO\",\n",
    "    description : \"Elizabeth Polly Gray (née Shelby) is the matriarch of the Shelby Family, aunt of the Shelby siblings, the treasurer of the Birmingham criminal gang, the Peaky Blinders, a certified accountant and company treasurer of Shelby Company Limited. \",\n",
    "    nicknames : [\"Aunt Polly\", \"Polly Gray\", \"Elizabeth Gray\", \"Polly Shelby\", \"Pol\"],\n",
    "    company : \"Peaky Blinders\",\n",
    "    episodes : [1,2,5,6]\n",
    "}])\n",
    "```"
   ]
  },
  {
   "cell_type": "markdown",
   "metadata": {},
   "source": [
    "# Python "
   ]
  },
  {
   "cell_type": "markdown",
   "metadata": {},
   "source": [
    "Il existe une API Python développée pour interagir avec une base de données MongoDB. \n",
    "\n",
    "Ce package s'appelle `pymongo`, vous pouvez trouver la documentation https://docs.mongodb.com/getting-started/python/client/. Il est important d'avoir des APIs dans les différents langages pour faciliter l'intégration dans les applications.\n",
    "\n",
    "Pour installer le package :\n"
   ]
  },
  {
   "cell_type": "code",
   "execution_count": 1,
   "metadata": {
    "scrolled": true
   },
   "outputs": [
    {
     "name": "stdout",
     "output_type": "stream",
     "text": [
      "Requirement already satisfied: pymongo in /root/.local/share/virtualenvs/code-AFz48Hjb/lib/python3.8/site-packages (3.11.0)\r\n"
     ]
    }
   ],
   "source": [
    "!pip install pymongo"
   ]
  },
  {
   "cell_type": "markdown",
   "metadata": {},
   "source": [
    "Ce package garde très largement la syntaxe Mongo shell et permet d'utiliser ces méthodes et items (DataBases, Collections, Documents) en tant qu'objets Python.\n",
    "\n",
    "Dans un premier temps on veut créer le lien entre notre base Mongo et notre programme, pour cela on créé un `client`."
   ]
  },
  {
   "cell_type": "code",
   "execution_count": 2,
   "metadata": {},
   "outputs": [
    {
     "name": "stderr",
     "output_type": "stream",
     "text": [
      "/root/.local/share/virtualenvs/code-AFz48Hjb/lib/python3.8/site-packages/requests/__init__.py:89: RequestsDependencyWarning: urllib3 (1.26.7) or chardet (3.0.4) doesn't match a supported version!\n",
      "  warnings.warn(\"urllib3 ({}) or chardet ({}) doesn't match a supported \"\n"
     ]
    }
   ],
   "source": [
    "from pymongo import MongoClient\n",
    "\n",
    "client = MongoClient(\"mongo\")"
   ]
  },
  {
   "cell_type": "code",
   "execution_count": 3,
   "metadata": {},
   "outputs": [],
   "source": [
    "db = client.test_database"
   ]
  },
  {
   "cell_type": "code",
   "execution_count": 4,
   "metadata": {},
   "outputs": [
    {
     "data": {
      "text/plain": [
       "Database(MongoClient(host=['mongo:27017'], document_class=dict, tz_aware=False, connect=True), 'test_database')"
      ]
     },
     "execution_count": 4,
     "metadata": {},
     "output_type": "execute_result"
    }
   ],
   "source": [
    "db"
   ]
  },
  {
   "cell_type": "markdown",
   "metadata": {},
   "source": [
    "Permet de se connecter à une base MongoDB en créant un pointeur client vers cette base. Par défault ce client est paramétré sur le localhost et le port 27017 qui est le port par défaut et très généralement utilisé.\n",
    " \n",
    "Néanmoins, vous pouvez choisir de vous connecter à n'importe quelle base, qu'elle soit sur votre machine ou à distance.\n",
    "\n",
    "\n",
    "```\n",
    "client = MongoClient(\"http://<YOUR_IP_ADDRESS>:<YOUR_PORT_NUMBER>)\n",
    "```\n",
    "\n",
    "Il est possible comme depuis le MongoShell de lister les bases de données.\n"
   ]
  },
  {
   "cell_type": "code",
   "execution_count": 5,
   "metadata": {},
   "outputs": [
    {
     "name": "stdout",
     "output_type": "stream",
     "text": [
      "Database(MongoClient(host=['mongo:27017'], document_class=dict, tz_aware=False, connect=True), 'test')\n"
     ]
    }
   ],
   "source": [
    "print(client.test)"
   ]
  },
  {
   "cell_type": "markdown",
   "metadata": {},
   "source": [
    "\n",
    "Vous pouvez aussi les sélectionner. Il y a deux syntaxes : \n",
    "```\n",
    "db = client.<YOUR_DATABASE_NAME>\n",
    "```\n",
    "ou \n",
    "```\n",
    "db = client[\"<YOUR_DATABASE_NAME>\"]\n",
    "```\n"
   ]
  },
  {
   "cell_type": "code",
   "execution_count": 6,
   "metadata": {},
   "outputs": [
    {
     "name": "stdout",
     "output_type": "stream",
     "text": [
      "<class 'pymongo.database.Database'>\n"
     ]
    }
   ],
   "source": [
    "db_series = client.series\n",
    "print(type(db_series))"
   ]
  },
  {
   "cell_type": "code",
   "execution_count": 7,
   "metadata": {},
   "outputs": [
    {
     "data": {
      "text/plain": [
       "{'host': '0481e9dd45c5',\n",
       " 'version': '5.0.5',\n",
       " 'process': 'mongod',\n",
       " 'pid': 1,\n",
       " 'uptime': 187.0,\n",
       " 'uptimeMillis': 186825,\n",
       " 'uptimeEstimate': 186,\n",
       " 'localTime': datetime.datetime(2021, 12, 25, 13, 16, 36, 412000),\n",
       " 'asserts': {'regular': 0,\n",
       "  'warning': 0,\n",
       "  'msg': 0,\n",
       "  'user': 0,\n",
       "  'tripwire': 0,\n",
       "  'rollovers': 0},\n",
       " 'catalogStats': {'collections': 1,\n",
       "  'capped': 0,\n",
       "  'timeseries': 0,\n",
       "  'views': 0,\n",
       "  'internalCollections': 3,\n",
       "  'internalViews': 0},\n",
       " 'connections': {'current': 3,\n",
       "  'available': 838857,\n",
       "  'totalCreated': 3,\n",
       "  'active': 2,\n",
       "  'threaded': 3,\n",
       "  'exhaustIsMaster': 0,\n",
       "  'exhaustHello': 0,\n",
       "  'awaitingTopologyChanges': 1},\n",
       " 'electionMetrics': {'stepUpCmd': {'called': 0, 'successful': 0},\n",
       "  'priorityTakeover': {'called': 0, 'successful': 0},\n",
       "  'catchUpTakeover': {'called': 0, 'successful': 0},\n",
       "  'electionTimeout': {'called': 0, 'successful': 0},\n",
       "  'freezeTimeout': {'called': 0, 'successful': 0},\n",
       "  'numStepDownsCausedByHigherTerm': 0,\n",
       "  'numCatchUps': 0,\n",
       "  'numCatchUpsSucceeded': 0,\n",
       "  'numCatchUpsAlreadyCaughtUp': 0,\n",
       "  'numCatchUpsSkipped': 0,\n",
       "  'numCatchUpsTimedOut': 0,\n",
       "  'numCatchUpsFailedWithError': 0,\n",
       "  'numCatchUpsFailedWithNewTerm': 0,\n",
       "  'numCatchUpsFailedWithReplSetAbortPrimaryCatchUpCmd': 0,\n",
       "  'averageCatchUpOps': 0.0},\n",
       " 'extra_info': {'note': 'fields vary by platform',\n",
       "  'user_time_us': 1845993,\n",
       "  'system_time_us': 3209700,\n",
       "  'maximum_resident_set_kb': 111960,\n",
       "  'input_blocks': 144216,\n",
       "  'output_blocks': 0,\n",
       "  'page_reclaims': 7697,\n",
       "  'page_faults': 839,\n",
       "  'voluntary_context_switches': 93502,\n",
       "  'involuntary_context_switches': 19},\n",
       " 'flowControl': {'enabled': True,\n",
       "  'targetRateLimit': 1000000000,\n",
       "  'timeAcquiringMicros': 8,\n",
       "  'locksPerKiloOp': 0.0,\n",
       "  'sustainerRate': 0,\n",
       "  'isLagged': False,\n",
       "  'isLaggedCount': 0,\n",
       "  'isLaggedTimeMicros': 0},\n",
       " 'freeMonitoring': {'state': 'undecided'},\n",
       " 'globalLock': {'totalTime': 186946000,\n",
       "  'currentQueue': {'total': 0, 'readers': 0, 'writers': 0},\n",
       "  'activeClients': {'total': 0, 'readers': 0, 'writers': 0}},\n",
       " 'locks': {'ParallelBatchWriterMode': {'acquireCount': {'r': 15}},\n",
       "  'ReplicationStateTransition': {'acquireCount': {'w': 727}},\n",
       "  'Global': {'acquireCount': {'r': 719, 'w': 7, 'W': 5}},\n",
       "  'Database': {'acquireCount': {'r': 8, 'w': 6, 'W': 1}},\n",
       "  'Collection': {'acquireCount': {'r': 12, 'w': 4, 'W': 2}},\n",
       "  'Mutex': {'acquireCount': {'r': 20}}},\n",
       " 'logicalSessionRecordCache': {'activeSessionsCount': 1,\n",
       "  'sessionsCollectionJobCount': 1,\n",
       "  'lastSessionsCollectionJobDurationMillis': 0,\n",
       "  'lastSessionsCollectionJobTimestamp': datetime.datetime(2021, 12, 25, 13, 13, 39, 483000),\n",
       "  'lastSessionsCollectionJobEntriesRefreshed': 0,\n",
       "  'lastSessionsCollectionJobEntriesEnded': 0,\n",
       "  'lastSessionsCollectionJobCursorsClosed': 0,\n",
       "  'transactionReaperJobCount': 1,\n",
       "  'lastTransactionReaperJobDurationMillis': 1,\n",
       "  'lastTransactionReaperJobTimestamp': datetime.datetime(2021, 12, 25, 13, 13, 39, 483000),\n",
       "  'lastTransactionReaperJobEntriesCleanedUp': 0,\n",
       "  'sessionCatalogSize': 0},\n",
       " 'network': {'bytesIn': 1156,\n",
       "  'bytesOut': 957,\n",
       "  'physicalBytesIn': 1156,\n",
       "  'physicalBytesOut': 957,\n",
       "  'numSlowDNSOperations': 0,\n",
       "  'numSlowSSLOperations': 0,\n",
       "  'numRequests': 5,\n",
       "  'tcpFastOpen': {'kernelSetting': 1,\n",
       "   'serverSupported': True,\n",
       "   'clientSupported': True,\n",
       "   'accepted': 0},\n",
       "  'compression': {'snappy': {'compressor': {'bytesIn': 0, 'bytesOut': 0},\n",
       "    'decompressor': {'bytesIn': 0, 'bytesOut': 0}},\n",
       "   'zstd': {'compressor': {'bytesIn': 0, 'bytesOut': 0},\n",
       "    'decompressor': {'bytesIn': 0, 'bytesOut': 0}},\n",
       "   'zlib': {'compressor': {'bytesIn': 0, 'bytesOut': 0},\n",
       "    'decompressor': {'bytesIn': 0, 'bytesOut': 0}}},\n",
       "  'serviceExecutors': {'passthrough': {'threadsRunning': 3,\n",
       "    'clientsInTotal': 3,\n",
       "    'clientsRunning': 3,\n",
       "    'clientsWaitingForData': 0},\n",
       "   'fixed': {'threadsRunning': 1,\n",
       "    'clientsInTotal': 0,\n",
       "    'clientsRunning': 0,\n",
       "    'clientsWaitingForData': 0}}},\n",
       " 'opLatencies': {'reads': {'latency': 0, 'ops': 0},\n",
       "  'writes': {'latency': 0, 'ops': 0},\n",
       "  'commands': {'latency': 377, 'ops': 3},\n",
       "  'transactions': {'latency': 0, 'ops': 0}},\n",
       " 'opcounters': {'insert': 0,\n",
       "  'query': 1,\n",
       "  'update': 0,\n",
       "  'delete': 0,\n",
       "  'getmore': 0,\n",
       "  'command': 7},\n",
       " 'opcountersRepl': {'insert': 0,\n",
       "  'query': 0,\n",
       "  'update': 0,\n",
       "  'delete': 0,\n",
       "  'getmore': 0,\n",
       "  'command': 0},\n",
       " 'readConcernCounters': {'nonTransactionOps': {'none': 0,\n",
       "   'noneInfo': {'CWRC': {'local': 0, 'available': 0, 'majority': 0},\n",
       "    'implicitDefault': {'local': 0, 'available': 0}},\n",
       "   'local': 0,\n",
       "   'available': 0,\n",
       "   'majority': 0,\n",
       "   'snapshot': {'withClusterTime': 0, 'withoutClusterTime': 0},\n",
       "   'linearizable': 0},\n",
       "  'transactionOps': {'none': 0,\n",
       "   'noneInfo': {'CWRC': {'local': 0, 'majority': 0},\n",
       "    'implicitDefault': {'local': 0}},\n",
       "   'local': 0,\n",
       "   'majority': 0,\n",
       "   'snapshot': {'withClusterTime': 0, 'withoutClusterTime': 0}}},\n",
       " 'scramCache': {'SCRAM-SHA-1': {'count': 0, 'hits': 0, 'misses': 0},\n",
       "  'SCRAM-SHA-256': {'count': 0, 'hits': 0, 'misses': 0}},\n",
       " 'security': {'authentication': {'saslSupportedMechsReceived': 0,\n",
       "   'mechanisms': {'MONGODB-X509': {'speculativeAuthenticate': {'received': 0,\n",
       "      'successful': 0},\n",
       "     'clusterAuthenticate': {'received': 0, 'successful': 0},\n",
       "     'authenticate': {'received': 0, 'successful': 0}},\n",
       "    'SCRAM-SHA-1': {'speculativeAuthenticate': {'received': 0,\n",
       "      'successful': 0},\n",
       "     'clusterAuthenticate': {'received': 0, 'successful': 0},\n",
       "     'authenticate': {'received': 0, 'successful': 0}},\n",
       "    'SCRAM-SHA-256': {'speculativeAuthenticate': {'received': 0,\n",
       "      'successful': 0},\n",
       "     'clusterAuthenticate': {'received': 0, 'successful': 0},\n",
       "     'authenticate': {'received': 0, 'successful': 0}}}}},\n",
       " 'storageEngine': {'name': 'wiredTiger',\n",
       "  'supportsCommittedReads': True,\n",
       "  'oldestRequiredTimestampForCrashRecovery': Timestamp(0, 0),\n",
       "  'supportsPendingDrops': True,\n",
       "  'dropPendingIdents': 0,\n",
       "  'supportsSnapshotReadConcern': True,\n",
       "  'readOnly': False,\n",
       "  'persistent': True,\n",
       "  'backupCursorOpen': False,\n",
       "  'supportsResumableIndexBuilds': True},\n",
       " 'tcmalloc': {'generic': {'current_allocated_bytes': 91791704,\n",
       "   'heap_size': 96002048},\n",
       "  'tcmalloc': {'pageheap_free_bytes': 2945024,\n",
       "   'pageheap_unmapped_bytes': 0,\n",
       "   'max_total_thread_cache_bytes': 1031798784,\n",
       "   'current_total_thread_cache_bytes': 869016,\n",
       "   'total_free_bytes': 1265320,\n",
       "   'central_cache_free_bytes': 265232,\n",
       "   'transfer_cache_free_bytes': 131072,\n",
       "   'thread_cache_free_bytes': 869016,\n",
       "   'aggressive_memory_decommit': 0,\n",
       "   'pageheap_committed_bytes': 96002048,\n",
       "   'pageheap_scavenge_count': 0,\n",
       "   'pageheap_commit_count': 57,\n",
       "   'pageheap_total_commit_bytes': 96002048,\n",
       "   'pageheap_decommit_count': 0,\n",
       "   'pageheap_total_decommit_bytes': 0,\n",
       "   'pageheap_reserve_count': 57,\n",
       "   'pageheap_total_reserve_bytes': 96002048,\n",
       "   'spinlock_total_delay_ns': 35900,\n",
       "   'release_rate': 1.0,\n",
       "   'formattedString': '------------------------------------------------\\nMALLOC:       91792280 (   87.5 MiB) Bytes in use by application\\nMALLOC: +      2945024 (    2.8 MiB) Bytes in page heap freelist\\nMALLOC: +       265232 (    0.3 MiB) Bytes in central cache freelist\\nMALLOC: +       131072 (    0.1 MiB) Bytes in transfer cache freelist\\nMALLOC: +       868440 (    0.8 MiB) Bytes in thread cache freelists\\nMALLOC: +      2752512 (    2.6 MiB) Bytes in malloc metadata\\nMALLOC:   ------------\\nMALLOC: =     98754560 (   94.2 MiB) Actual memory used (physical + swap)\\nMALLOC: +            0 (    0.0 MiB) Bytes released to OS (aka unmapped)\\nMALLOC:   ------------\\nMALLOC: =     98754560 (   94.2 MiB) Virtual address space used\\nMALLOC:\\nMALLOC:            806              Spans in use\\nMALLOC:             33              Thread heaps in use\\nMALLOC:           4096              Tcmalloc page size\\n------------------------------------------------\\nCall ReleaseFreeMemory() to release freelist memory to the OS (via madvise()).\\nBytes released to the OS take up virtual address space but no physical memory.\\n'}},\n",
       " 'tenantMigrations': {'currentMigrationsDonating': 0,\n",
       "  'currentMigrationsReceiving': 0,\n",
       "  'totalSuccessfulMigrationsDonated': 0,\n",
       "  'totalSuccessfulMigrationsReceived': 0,\n",
       "  'totalFailedMigrationsDonated': 0,\n",
       "  'totalFailedMigrationsReceived': 0},\n",
       " 'trafficRecording': {'running': False},\n",
       " 'transactions': {'retriedCommandsCount': 0,\n",
       "  'retriedStatementsCount': 0,\n",
       "  'transactionsCollectionWriteCount': 0,\n",
       "  'currentActive': 0,\n",
       "  'currentInactive': 0,\n",
       "  'currentOpen': 0,\n",
       "  'totalAborted': 0,\n",
       "  'totalCommitted': 0,\n",
       "  'totalStarted': 0,\n",
       "  'totalPrepared': 0,\n",
       "  'totalPreparedThenCommitted': 0,\n",
       "  'totalPreparedThenAborted': 0,\n",
       "  'currentPrepared': 0},\n",
       " 'transportSecurity': {'1.0': 0, '1.1': 0, '1.2': 0, '1.3': 0, 'unknown': 0},\n",
       " 'twoPhaseCommitCoordinator': {'totalCreated': 0,\n",
       "  'totalStartedTwoPhaseCommit': 0,\n",
       "  'totalAbortedTwoPhaseCommit': 0,\n",
       "  'totalCommittedTwoPhaseCommit': 0,\n",
       "  'currentInSteps': {'writingParticipantList': 0,\n",
       "   'waitingForVotes': 0,\n",
       "   'writingDecision': 0,\n",
       "   'waitingForDecisionAcks': 0,\n",
       "   'deletingCoordinatorDoc': 0}},\n",
       " 'wiredTiger': {'uri': 'statistics:',\n",
       "  'block-manager': {'block cache cached blocks updated': 0,\n",
       "   'block cache cached bytes updated': 0,\n",
       "   'block cache evicted blocks': 0,\n",
       "   'block cache file size causing bypass': 0,\n",
       "   'block cache lookups': 0,\n",
       "   'block cache number of blocks not evicted due to overhead': 0,\n",
       "   'block cache number of bypasses because no-write-allocate setting was on': 0,\n",
       "   'block cache number of bypasses due to overhead on put': 0,\n",
       "   'block cache number of bypasses on get': 0,\n",
       "   'block cache number of bypasses on put because file is too small': 0,\n",
       "   'block cache number of eviction passes': 0,\n",
       "   'block cache number of hits including existence checks': 0,\n",
       "   'block cache number of misses including existence checks': 0,\n",
       "   'block cache number of put bypasses on checkpoint I/O': 0,\n",
       "   'block cache removed blocks': 0,\n",
       "   'block cache total blocks': 0,\n",
       "   'block cache total blocks inserted on read path': 0,\n",
       "   'block cache total blocks inserted on write path': 0,\n",
       "   'block cache total bytes': 0,\n",
       "   'block cache total bytes inserted on read path': 0,\n",
       "   'block cache total bytes inserted on write path': 0,\n",
       "   'blocks pre-loaded': 7,\n",
       "   'blocks read': 28,\n",
       "   'blocks written': 25,\n",
       "   'bytes read': 135168,\n",
       "   'bytes read via memory map API': 0,\n",
       "   'bytes read via system call API': 0,\n",
       "   'bytes written': 163840,\n",
       "   'bytes written for checkpoint': 163840,\n",
       "   'bytes written via memory map API': 0,\n",
       "   'bytes written via system call API': 0,\n",
       "   'mapped blocks read': 0,\n",
       "   'mapped bytes read': 0,\n",
       "   'number of times the file was remapped because it changed size via fallocate or truncate': 0,\n",
       "   'number of times the region was remapped via write': 0},\n",
       "  'cache': {'application threads page read from disk to cache count': 6,\n",
       "   'application threads page read from disk to cache time (usecs)': 1713,\n",
       "   'application threads page write from cache to disk count': 10,\n",
       "   'application threads page write from cache to disk time (usecs)': 15467,\n",
       "   'bytes allocated for updates': 13061,\n",
       "   'bytes belonging to page images in the cache': 43579,\n",
       "   'bytes belonging to the history store table in the cache': 571,\n",
       "   'bytes currently in the cache': 61083,\n",
       "   'bytes dirty in the cache cumulative': 113596,\n",
       "   'bytes not belonging to page images in the cache': 17504,\n",
       "   'bytes read into cache': 40351,\n",
       "   'bytes written from cache': 85637,\n",
       "   'cache overflow score': 0,\n",
       "   'checkpoint blocked page eviction': 0,\n",
       "   'checkpoint of history store file blocked non-history store page eviction': 0,\n",
       "   'eviction calls to get a page': 13,\n",
       "   'eviction calls to get a page found queue empty': 12,\n",
       "   'eviction calls to get a page found queue empty after locking': 0,\n",
       "   'eviction currently operating in aggressive mode': 0,\n",
       "   'eviction empty score': 0,\n",
       "   'eviction gave up due to detecting an out of order on disk value behind the last update on the chain': 0,\n",
       "   'eviction gave up due to detecting an out of order tombstone ahead of the selected on disk update': 0,\n",
       "   'eviction gave up due to detecting an out of order tombstone ahead of the selected on disk update after validating the update chain': 0,\n",
       "   'eviction gave up due to detecting out of order timestamps on the update chain after the selected on disk update': 0,\n",
       "   'eviction passes of a file': 0,\n",
       "   'eviction server candidate queue empty when topping up': 0,\n",
       "   'eviction server candidate queue not empty when topping up': 0,\n",
       "   'eviction server evicting pages': 0,\n",
       "   'eviction server slept, because we did not make progress with eviction': 0,\n",
       "   'eviction server unable to reach eviction goal': 0,\n",
       "   'eviction server waiting for a leaf page': 0,\n",
       "   'eviction state': 64,\n",
       "   'eviction walk most recent sleeps for checkpoint handle gathering': 0,\n",
       "   'eviction walk target pages histogram - 0-9': 0,\n",
       "   'eviction walk target pages histogram - 10-31': 0,\n",
       "   'eviction walk target pages histogram - 128 and higher': 0,\n",
       "   'eviction walk target pages histogram - 32-63': 0,\n",
       "   'eviction walk target pages histogram - 64-128': 0,\n",
       "   'eviction walk target pages reduced due to history store cache pressure': 0,\n",
       "   'eviction walk target strategy both clean and dirty pages': 0,\n",
       "   'eviction walk target strategy only clean pages': 0,\n",
       "   'eviction walk target strategy only dirty pages': 0,\n",
       "   'eviction walks abandoned': 0,\n",
       "   'eviction walks gave up because they restarted their walk twice': 0,\n",
       "   'eviction walks gave up because they saw too many pages and found no candidates': 0,\n",
       "   'eviction walks gave up because they saw too many pages and found too few candidates': 0,\n",
       "   'eviction walks reached end of tree': 0,\n",
       "   'eviction walks restarted': 0,\n",
       "   'eviction walks started from root of tree': 0,\n",
       "   'eviction walks started from saved location in tree': 0,\n",
       "   'eviction worker thread active': 4,\n",
       "   'eviction worker thread created': 0,\n",
       "   'eviction worker thread evicting pages': 1,\n",
       "   'eviction worker thread removed': 0,\n",
       "   'eviction worker thread stable number': 0,\n",
       "   'files with active eviction walks': 0,\n",
       "   'files with new eviction walks started': 0,\n",
       "   'force re-tuning of eviction workers once in a while': 0,\n",
       "   'forced eviction - history store pages failed to evict while session has history store cursor open': 0,\n",
       "   'forced eviction - history store pages selected while session has history store cursor open': 0,\n",
       "   'forced eviction - history store pages successfully evicted while session has history store cursor open': 0,\n",
       "   'forced eviction - pages evicted that were clean count': 0,\n",
       "   'forced eviction - pages evicted that were clean time (usecs)': 0,\n",
       "   'forced eviction - pages evicted that were dirty count': 0,\n",
       "   'forced eviction - pages evicted that were dirty time (usecs)': 0,\n",
       "   'forced eviction - pages selected because of a large number of updates to a single item': 0,\n",
       "   'forced eviction - pages selected because of too many deleted items count': 0,\n",
       "   'forced eviction - pages selected count': 0,\n",
       "   'forced eviction - pages selected unable to be evicted count': 0,\n",
       "   'forced eviction - pages selected unable to be evicted time': 0,\n",
       "   'hazard pointer blocked page eviction': 0,\n",
       "   'hazard pointer check calls': 1,\n",
       "   'hazard pointer check entries walked': 1,\n",
       "   'hazard pointer maximum array length': 1,\n",
       "   'history store score': 0,\n",
       "   'history store table insert calls': 0,\n",
       "   'history store table insert calls that returned restart': 0,\n",
       "   'history store table max on-disk size': 0,\n",
       "   'history store table on-disk size': 4096,\n",
       "   'history store table out-of-order resolved updates that lose their durable timestamp': 0,\n",
       "   'history store table out-of-order updates that were fixed up by reinserting with the fixed timestamp': 0,\n",
       "   'history store table reads': 0,\n",
       "   'history store table reads missed': 0,\n",
       "   'history store table reads requiring squashed modifies': 0,\n",
       "   'history store table truncation by rollback to stable to remove an unstable update': 0,\n",
       "   'history store table truncation by rollback to stable to remove an update': 0,\n",
       "   'history store table truncation to remove an update': 0,\n",
       "   'history store table truncation to remove range of updates due to key being removed from the data page during reconciliation': 0,\n",
       "   'history store table truncation to remove range of updates due to out-of-order timestamp update on data page': 0,\n",
       "   'history store table writes requiring squashed modifies': 0,\n",
       "   'in-memory page passed criteria to be split': 0,\n",
       "   'in-memory page splits': 0,\n",
       "   'internal pages evicted': 0,\n",
       "   'internal pages queued for eviction': 0,\n",
       "   'internal pages seen by eviction walk': 0,\n",
       "   'internal pages seen by eviction walk that are already queued': 0,\n",
       "   'internal pages split during eviction': 0,\n",
       "   'leaf pages split during eviction': 0,\n",
       "   'maximum bytes configured': 3592421376,\n",
       "   'maximum page size at eviction': 360,\n",
       "   'modified pages evicted': 1,\n",
       "   'modified pages evicted by application threads': 0,\n",
       "   'operations timed out waiting for space in cache': 0,\n",
       "   'overflow pages read into cache': 0,\n",
       "   'page split during eviction deepened the tree': 0,\n",
       "   'page written requiring history store records': 0,\n",
       "   'pages currently held in the cache': 18,\n",
       "   'pages evicted by application threads': 0,\n",
       "   'pages evicted in parallel with checkpoint': 1,\n",
       "   'pages queued for eviction': 0,\n",
       "   'pages queued for eviction post lru sorting': 0,\n",
       "   'pages queued for urgent eviction': 1,\n",
       "   'pages queued for urgent eviction during walk': 0,\n",
       "   'pages queued for urgent eviction from history store due to high dirty content': 0,\n",
       "   'pages read into cache': 14,\n",
       "   'pages read into cache after truncate': 3,\n",
       "   'pages read into cache after truncate in prepare state': 0,\n",
       "   'pages requested from the cache': 186,\n",
       "   'pages seen by eviction walk': 0,\n",
       "   'pages seen by eviction walk that are already queued': 0,\n",
       "   'pages selected for eviction unable to be evicted': 0,\n",
       "   'pages selected for eviction unable to be evicted because of active children on an internal page': 0,\n",
       "   'pages selected for eviction unable to be evicted because of failure in reconciliation': 0,\n",
       "   'pages selected for eviction unable to be evicted because of race between checkpoint and out of order timestamps handling': 0,\n",
       "   'pages walked for eviction': 0,\n",
       "   'pages written from cache': 12,\n",
       "   'pages written requiring in-memory restoration': 0,\n",
       "   'percentage overhead': 8,\n",
       "   'the number of times full update inserted to history store': 0,\n",
       "   'the number of times reverse modify inserted to history store': 0,\n",
       "   'tracked bytes belonging to internal pages in the cache': 3438,\n",
       "   'tracked bytes belonging to leaf pages in the cache': 57645,\n",
       "   'tracked dirty bytes in the cache': 865,\n",
       "   'tracked dirty pages in the cache': 2,\n",
       "   'unmodified pages evicted': 0},\n",
       "  'capacity': {'background fsync file handles considered': 0,\n",
       "   'background fsync file handles synced': 0,\n",
       "   'background fsync time (msecs)': 0,\n",
       "   'bytes read': 77824,\n",
       "   'bytes written for checkpoint': 71476,\n",
       "   'bytes written for eviction': 0,\n",
       "   'bytes written for log': 1255788032,\n",
       "   'bytes written total': 1255859508,\n",
       "   'threshold to call fsync': 0,\n",
       "   'time waiting due to total capacity (usecs)': 0,\n",
       "   'time waiting during checkpoint (usecs)': 0,\n",
       "   'time waiting during eviction (usecs)': 0,\n",
       "   'time waiting during logging (usecs)': 0,\n",
       "   'time waiting during read (usecs)': 0},\n",
       "  'checkpoint-cleanup': {'pages added for eviction': 1,\n",
       "   'pages removed': 0,\n",
       "   'pages skipped during tree walk': 0,\n",
       "   'pages visited': 6},\n",
       "  'connection': {'auto adjusting condition resets': 20,\n",
       "   'auto adjusting condition wait calls': 1107,\n",
       "   'auto adjusting condition wait raced to update timeout and skipped updating': 0,\n",
       "   'detected system time went backwards': 0,\n",
       "   'files currently open': 12,\n",
       "   'hash bucket array size for data handles': 512,\n",
       "   'hash bucket array size general': 512,\n",
       "   'memory allocations': 10013,\n",
       "   'memory frees': 9204,\n",
       "   'memory re-allocations': 850,\n",
       "   'pthread mutex condition wait calls': 2913,\n",
       "   'pthread mutex shared lock read-lock calls': 3024,\n",
       "   'pthread mutex shared lock write-lock calls': 263,\n",
       "   'total fsync I/Os': 32,\n",
       "   'total read I/Os': 1290,\n",
       "   'total write I/Os': 40},\n",
       "  'cursor': {'Total number of entries skipped by cursor next calls': 0,\n",
       "   'Total number of entries skipped by cursor prev calls': 0,\n",
       "   'Total number of entries skipped to position the history store cursor': 0,\n",
       "   'Total number of times a search near has exited due to prefix config': 0,\n",
       "   'cached cursor count': 14,\n",
       "   'cursor bulk loaded cursor insert calls': 0,\n",
       "   'cursor close calls that result in cache': 1509,\n",
       "   'cursor create calls': 51,\n",
       "   'cursor insert calls': 14,\n",
       "   'cursor insert key and value bytes': 9408,\n",
       "   'cursor modify calls': 0,\n",
       "   'cursor modify key and value bytes affected': 0,\n",
       "   'cursor modify value bytes modified': 0,\n",
       "   'cursor next calls': 167,\n",
       "   'cursor next calls that skip due to a globally visible history store tombstone': 0,\n",
       "   'cursor next calls that skip greater than or equal to 100 entries': 0,\n",
       "   'cursor next calls that skip less than 100 entries': 165,\n",
       "   'cursor operation restarted': 0,\n",
       "   'cursor prev calls': 14,\n",
       "   'cursor prev calls that skip due to a globally visible history store tombstone': 0,\n",
       "   'cursor prev calls that skip greater than or equal to 100 entries': 0,\n",
       "   'cursor prev calls that skip less than 100 entries': 14,\n",
       "   'cursor remove calls': 0,\n",
       "   'cursor remove key bytes removed': 0,\n",
       "   'cursor reserve calls': 0,\n",
       "   'cursor reset calls': 1673,\n",
       "   'cursor search calls': 111,\n",
       "   'cursor search history store calls': 0,\n",
       "   'cursor search near calls': 21,\n",
       "   'cursor sweep buckets': 240,\n",
       "   'cursor sweep cursors closed': 0,\n",
       "   'cursor sweep cursors examined': 0,\n",
       "   'cursor sweeps': 40,\n",
       "   'cursor truncate calls': 0,\n",
       "   'cursor update calls': 0,\n",
       "   'cursor update key and value bytes': 0,\n",
       "   'cursor update value size change': 0,\n",
       "   'cursors reused from cache': 1495,\n",
       "   'open cursor count': 8},\n",
       "  'data-handle': {'connection data handle size': 440,\n",
       "   'connection data handles currently active': 17,\n",
       "   'connection sweep candidate became referenced': 0,\n",
       "   'connection sweep dhandles closed': 0,\n",
       "   'connection sweep dhandles removed from hash list': 5,\n",
       "   'connection sweep time-of-death sets': 37,\n",
       "   'connection sweeps': 17,\n",
       "   'connection sweeps skipped due to checkpoint gathering handles': 0,\n",
       "   'session dhandles swept': 0,\n",
       "   'session sweep attempts': 33},\n",
       "  'lock': {'checkpoint lock acquisitions': 4,\n",
       "   'checkpoint lock application thread wait time (usecs)': 0,\n",
       "   'checkpoint lock internal thread wait time (usecs)': 0,\n",
       "   'dhandle lock application thread time waiting (usecs)': 0,\n",
       "   'dhandle lock internal thread time waiting (usecs)': 1,\n",
       "   'dhandle read lock acquisitions': 741,\n",
       "   'dhandle write lock acquisitions': 31,\n",
       "   'durable timestamp queue lock application thread time waiting (usecs)': 0,\n",
       "   'durable timestamp queue lock internal thread time waiting (usecs)': 0,\n",
       "   'durable timestamp queue read lock acquisitions': 0,\n",
       "   'durable timestamp queue write lock acquisitions': 0,\n",
       "   'metadata lock acquisitions': 3,\n",
       "   'metadata lock application thread wait time (usecs)': 0,\n",
       "   'metadata lock internal thread wait time (usecs)': 0,\n",
       "   'read timestamp queue lock application thread time waiting (usecs)': 0,\n",
       "   'read timestamp queue lock internal thread time waiting (usecs)': 0,\n",
       "   'read timestamp queue read lock acquisitions': 0,\n",
       "   'read timestamp queue write lock acquisitions': 0,\n",
       "   'schema lock acquisitions': 23,\n",
       "   'schema lock application thread wait time (usecs)': 0,\n",
       "   'schema lock internal thread wait time (usecs)': 0,\n",
       "   'table lock application thread time waiting for the table lock (usecs)': 0,\n",
       "   'table lock internal thread time waiting for the table lock (usecs)': 0,\n",
       "   'table read lock acquisitions': 0,\n",
       "   'table write lock acquisitions': 9,\n",
       "   'txn global lock application thread time waiting (usecs)': 0,\n",
       "   'txn global lock internal thread time waiting (usecs)': 0,\n",
       "   'txn global read lock acquisitions': 15,\n",
       "   'txn global write lock acquisitions': 11},\n",
       "  'log': {'busy returns attempting to switch slots': 0,\n",
       "   'force archive time sleeping (usecs)': 0,\n",
       "   'log bytes of payload data': 5058,\n",
       "   'log bytes written': 6656,\n",
       "   'log files manually zero-filled': 0,\n",
       "   'log flush operations': 1770,\n",
       "   'log force write operations': 1949,\n",
       "   'log force write operations skipped': 1945,\n",
       "   'log records compressed': 3,\n",
       "   'log records not compressed': 0,\n",
       "   'log records too small to compress': 14,\n",
       "   'log release advances write LSN': 4,\n",
       "   'log scan operations': 6,\n",
       "   'log scan records requiring two reads': 0,\n",
       "   'log server thread advances write LSN': 4,\n",
       "   'log server thread write LSN walk skipped': 2184,\n",
       "   'log sync operations': 7,\n",
       "   'log sync time duration (usecs)': 18385,\n",
       "   'log sync_dir operations': 1,\n",
       "   'log sync_dir time duration (usecs)': 3227,\n",
       "   'log write operations': 17,\n",
       "   'logging bytes consolidated': 6144,\n",
       "   'maximum log file size': 104857600,\n",
       "   'number of pre-allocated log files to create': 2,\n",
       "   'pre-allocated log files not ready and missed': 1,\n",
       "   'pre-allocated log files prepared': 2,\n",
       "   'pre-allocated log files used': 0,\n",
       "   'records processed by log scan': 15,\n",
       "   'slot close lost race': 0,\n",
       "   'slot close unbuffered waits': 0,\n",
       "   'slot closures': 8,\n",
       "   'slot join atomic update races': 0,\n",
       "   'slot join calls atomic updates raced': 0,\n",
       "   'slot join calls did not yield': 17,\n",
       "   'slot join calls found active slot closed': 0,\n",
       "   'slot join calls slept': 0,\n",
       "   'slot join calls yielded': 0,\n",
       "   'slot join found active slot closed': 0,\n",
       "   'slot joins yield time (usecs)': 0,\n",
       "   'slot transitions unable to find free slot': 0,\n",
       "   'slot unbuffered writes': 0,\n",
       "   'total in-memory size of compressed records': 7992,\n",
       "   'total log buffer size': 33554432,\n",
       "   'total size of compressed records': 4339,\n",
       "   'written slots coalesced': 0,\n",
       "   'yields waiting for previous log file close': 0},\n",
       "  'perf': {'file system read latency histogram (bucket 1) - 10-49ms': 2,\n",
       "   'file system read latency histogram (bucket 2) - 50-99ms': 0,\n",
       "   'file system read latency histogram (bucket 3) - 100-249ms': 0,\n",
       "   'file system read latency histogram (bucket 4) - 250-499ms': 0,\n",
       "   'file system read latency histogram (bucket 5) - 500-999ms': 0,\n",
       "   'file system read latency histogram (bucket 6) - 1000ms+': 0,\n",
       "   'file system write latency histogram (bucket 1) - 10-49ms': 0,\n",
       "   'file system write latency histogram (bucket 2) - 50-99ms': 0,\n",
       "   'file system write latency histogram (bucket 3) - 100-249ms': 0,\n",
       "   'file system write latency histogram (bucket 4) - 250-499ms': 0,\n",
       "   'file system write latency histogram (bucket 5) - 500-999ms': 0,\n",
       "   'file system write latency histogram (bucket 6) - 1000ms+': 0,\n",
       "   'operation read latency histogram (bucket 1) - 100-249us': 0,\n",
       "   'operation read latency histogram (bucket 2) - 250-499us': 3,\n",
       "   'operation read latency histogram (bucket 3) - 500-999us': 1,\n",
       "   'operation read latency histogram (bucket 4) - 1000-9999us': 0,\n",
       "   'operation read latency histogram (bucket 5) - 10000us+': 0,\n",
       "   'operation write latency histogram (bucket 1) - 100-249us': 0,\n",
       "   'operation write latency histogram (bucket 2) - 250-499us': 1,\n",
       "   'operation write latency histogram (bucket 3) - 500-999us': 0,\n",
       "   'operation write latency histogram (bucket 4) - 1000-9999us': 0,\n",
       "   'operation write latency histogram (bucket 5) - 10000us+': 0},\n",
       "  'reconciliation': {'approximate byte size of timestamps in pages written': 0,\n",
       "   'approximate byte size of transaction IDs in pages written': 56,\n",
       "   'fast-path pages deleted': 0,\n",
       "   'leaf-page overflow keys': 0,\n",
       "   'maximum seconds spent in a reconciliation call': 0,\n",
       "   'page reconciliation calls': 15,\n",
       "   'page reconciliation calls for eviction': 1,\n",
       "   'page reconciliation calls that resulted in values with prepared transaction metadata': 0,\n",
       "   'page reconciliation calls that resulted in values with timestamps': 0,\n",
       "   'page reconciliation calls that resulted in values with transaction ids': 2,\n",
       "   'pages deleted': 3,\n",
       "   'pages written including an aggregated newest start durable timestamp ': 0,\n",
       "   'pages written including an aggregated newest stop durable timestamp ': 0,\n",
       "   'pages written including an aggregated newest stop timestamp ': 0,\n",
       "   'pages written including an aggregated newest stop transaction ID': 0,\n",
       "   'pages written including an aggregated newest transaction ID ': 0,\n",
       "   'pages written including an aggregated oldest start timestamp ': 0,\n",
       "   'pages written including an aggregated prepare': 0,\n",
       "   'pages written including at least one prepare state': 0,\n",
       "   'pages written including at least one start durable timestamp': 0,\n",
       "   'pages written including at least one start timestamp': 0,\n",
       "   'pages written including at least one start transaction ID': 2,\n",
       "   'pages written including at least one stop durable timestamp': 0,\n",
       "   'pages written including at least one stop timestamp': 0,\n",
       "   'pages written including at least one stop transaction ID': 0,\n",
       "   'records written including a prepare state': 0,\n",
       "   'records written including a start durable timestamp': 0,\n",
       "   'records written including a start timestamp': 0,\n",
       "   'records written including a start transaction ID': 7,\n",
       "   'records written including a stop durable timestamp': 0,\n",
       "   'records written including a stop timestamp': 0,\n",
       "   'records written including a stop transaction ID': 0,\n",
       "   'split bytes currently awaiting free': 0,\n",
       "   'split objects currently awaiting free': 0},\n",
       "  'session': {'attempts to remove a local object and the object is in use': 0,\n",
       "   'flush_tier operation calls': 0,\n",
       "   'local objects removed': 0,\n",
       "   'open session count': 16,\n",
       "   'session query timestamp calls': 0,\n",
       "   'table alter failed calls': 0,\n",
       "   'table alter successful calls': 0,\n",
       "   'table alter triggering checkpoint calls': 0,\n",
       "   'table alter unchanged and skipped': 0,\n",
       "   'table compact failed calls': 0,\n",
       "   'table compact failed calls due to cache pressure': 0,\n",
       "   'table compact running': 0,\n",
       "   'table compact skipped as process would not reduce file size': 0,\n",
       "   'table compact successful calls': 0,\n",
       "   'table compact timeout': 0,\n",
       "   'table create failed calls': 0,\n",
       "   'table create successful calls': 1,\n",
       "   'table drop failed calls': 0,\n",
       "   'table drop successful calls': 0,\n",
       "   'table rename failed calls': 0,\n",
       "   'table rename successful calls': 0,\n",
       "   'table salvage failed calls': 0,\n",
       "   'table salvage successful calls': 0,\n",
       "   'table truncate failed calls': 0,\n",
       "   'table truncate successful calls': 0,\n",
       "   'table verify failed calls': 0,\n",
       "   'table verify successful calls': 0,\n",
       "   'tiered operations dequeued and processed': 0,\n",
       "   'tiered operations scheduled': 0,\n",
       "   'tiered storage local retention time (secs)': 0,\n",
       "   'tiered storage object size': 0},\n",
       "  'thread-state': {'active filesystem fsync calls': 0,\n",
       "   'active filesystem read calls': 0,\n",
       "   'active filesystem write calls': 0},\n",
       "  'thread-yield': {'application thread time evicting (usecs)': 0,\n",
       "   'application thread time waiting for cache (usecs)': 0,\n",
       "   'connection close blocked waiting for transaction state stabilization': 0,\n",
       "   'connection close yielded for lsm manager shutdown': 0,\n",
       "   'data handle lock yielded': 0,\n",
       "   'get reference for page index and slot time sleeping (usecs)': 0,\n",
       "   'page access yielded due to prepare state change': 0,\n",
       "   'page acquire busy blocked': 0,\n",
       "   'page acquire eviction blocked': 0,\n",
       "   'page acquire locked blocked': 0,\n",
       "   'page acquire read blocked': 0,\n",
       "   'page acquire time sleeping (usecs)': 0,\n",
       "   'page delete rollback time sleeping for state change (usecs)': 0,\n",
       "   'page reconciliation yielded due to child modification': 0},\n",
       "  'transaction': {'Number of prepared updates': 0,\n",
       "   'Number of prepared updates committed': 0,\n",
       "   'Number of prepared updates repeated on the same key': 0,\n",
       "   'Number of prepared updates rolled back': 0,\n",
       "   'prepared transactions': 0,\n",
       "   'prepared transactions committed': 0,\n",
       "   'prepared transactions currently active': 0,\n",
       "   'prepared transactions rolled back': 0,\n",
       "   'prepared transactions rolled back and do not remove the history store entry': 0,\n",
       "   'prepared transactions rolled back and fix the history store entry with checkpoint reserved transaction id': 0,\n",
       "   'query timestamp calls': 179,\n",
       "   'race to read prepared update retry': 0,\n",
       "   'rollback to stable calls': 0,\n",
       "   'rollback to stable history store records with stop timestamps older than newer records': 0,\n",
       "   'rollback to stable inconsistent checkpoint': 0,\n",
       "   'rollback to stable keys removed': 0,\n",
       "   'rollback to stable keys restored': 0,\n",
       "   'rollback to stable pages visited': 0,\n",
       "   'rollback to stable restored tombstones from history store': 0,\n",
       "   'rollback to stable restored updates from history store': 0,\n",
       "   'rollback to stable skipping delete rle': 0,\n",
       "   'rollback to stable skipping stable rle': 0,\n",
       "   'rollback to stable sweeping history store keys': 0,\n",
       "   'rollback to stable tree walk skipping pages': 0,\n",
       "   'rollback to stable updates aborted': 0,\n",
       "   'rollback to stable updates removed from history store': 0,\n",
       "   'sessions scanned in each walk of concurrent sessions': 3311,\n",
       "   'set timestamp calls': 0,\n",
       "   'set timestamp durable calls': 0,\n",
       "   'set timestamp durable updates': 0,\n",
       "   'set timestamp oldest calls': 0,\n",
       "   'set timestamp oldest updates': 0,\n",
       "   'set timestamp stable calls': 0,\n",
       "   'set timestamp stable updates': 0,\n",
       "   'transaction begins': 13,\n",
       "   'transaction checkpoint currently running': 0,\n",
       "   'transaction checkpoint currently running for history store file': 0,\n",
       "   'transaction checkpoint generation': 4,\n",
       "   'transaction checkpoint history store file duration (usecs)': 12,\n",
       "   'transaction checkpoint max time (msecs)': 47,\n",
       "   'transaction checkpoint min time (msecs)': 20,\n",
       "   'transaction checkpoint most recent duration for gathering all handles (usecs)': 216,\n",
       "   'transaction checkpoint most recent duration for gathering applied handles (usecs)': 183,\n",
       "   'transaction checkpoint most recent duration for gathering skipped handles (usecs)': 19,\n",
       "   'transaction checkpoint most recent handles applied': 2,\n",
       "   'transaction checkpoint most recent handles skipped': 6,\n",
       "   'transaction checkpoint most recent handles walked': 19,\n",
       "   'transaction checkpoint most recent time (msecs)': 47,\n",
       "   'transaction checkpoint prepare currently running': 0,\n",
       "   'transaction checkpoint prepare max time (msecs)': 0,\n",
       "   'transaction checkpoint prepare min time (msecs)': 0,\n",
       "   'transaction checkpoint prepare most recent time (msecs)': 0,\n",
       "   'transaction checkpoint prepare total time (msecs)': 0,\n",
       "   'transaction checkpoint scrub dirty target': 0,\n",
       "   'transaction checkpoint scrub time (msecs)': 0,\n",
       "   'transaction checkpoint total time (msecs)': 104,\n",
       "   'transaction checkpoints': 3,\n",
       "   'transaction checkpoints due to obsolete pages': 0,\n",
       "   'transaction checkpoints skipped because database was clean': 0,\n",
       "   'transaction failures due to history store': 0,\n",
       "   'transaction fsync calls for checkpoint after allocating the transaction ID': 3,\n",
       "   'transaction fsync duration for checkpoint after allocating the transaction ID (usecs)': 7821,\n",
       "   'transaction range of IDs currently pinned': 0,\n",
       "   'transaction range of IDs currently pinned by a checkpoint': 0,\n",
       "   'transaction range of timestamps currently pinned': 0,\n",
       "   'transaction range of timestamps pinned by a checkpoint': 0,\n",
       "   'transaction range of timestamps pinned by the oldest active read timestamp': 0,\n",
       "   'transaction range of timestamps pinned by the oldest timestamp': 0,\n",
       "   'transaction read timestamp of the oldest active reader': 0,\n",
       "   'transaction rollback to stable currently running': 0,\n",
       "   'transaction walk of concurrent sessions': 210,\n",
       "   'transactions committed': 2,\n",
       "   'transactions rolled back': 11,\n",
       "   'update conflicts': 0},\n",
       "  'concurrentTransactions': {'write': {'out': 0,\n",
       "    'available': 128,\n",
       "    'totalTickets': 128},\n",
       "   'read': {'out': 1, 'available': 127, 'totalTickets': 128}},\n",
       "  'snapshot-window-settings': {'total number of SnapshotTooOld errors': 0,\n",
       "   'minimum target snapshot window size in seconds': 300,\n",
       "   'current available snapshot window size in seconds': 0,\n",
       "   'latest majority snapshot timestamp available': 'Jan  1 00:00:00:0',\n",
       "   'oldest majority snapshot timestamp available': 'Jan  1 00:00:00:0',\n",
       "   'pinned timestamp requests': 0,\n",
       "   'min pinned timestamp': Timestamp(4294967295, 4294967295)},\n",
       "  'oplog': {'visibility timestamp': Timestamp(0, 0)}},\n",
       " 'mem': {'bits': 64, 'resident': 109, 'virtual': 1506, 'supported': True},\n",
       " 'metrics': {'apiVersions': {'': ['default']},\n",
       "  'aggStageCounters': {'$_internalConvertBucketIndexStats': 0,\n",
       "   '$_internalFindAndModifyImageLookup': 0,\n",
       "   '$_internalInhibitOptimization': 0,\n",
       "   '$_internalReshardingIterateTransaction': 0,\n",
       "   '$_internalReshardingOwnershipMatch': 0,\n",
       "   '$_internalSetWindowFields': 0,\n",
       "   '$_internalSplitPipeline': 0,\n",
       "   '$_internalUnpackBucket': 0,\n",
       "   '$_unpackBucket': 0,\n",
       "   '$addFields': 0,\n",
       "   '$bucket': 0,\n",
       "   '$bucketAuto': 0,\n",
       "   '$changeStream': 0,\n",
       "   '$collStats': 0,\n",
       "   '$count': 0,\n",
       "   '$currentOp': 0,\n",
       "   '$documents': 0,\n",
       "   '$facet': 0,\n",
       "   '$geoNear': 0,\n",
       "   '$graphLookup': 0,\n",
       "   '$group': 0,\n",
       "   '$indexStats': 0,\n",
       "   '$limit': 0,\n",
       "   '$listLocalSessions': 0,\n",
       "   '$listSessions': 0,\n",
       "   '$lookup': 0,\n",
       "   '$match': 0,\n",
       "   '$merge': 0,\n",
       "   '$mergeCursors': 0,\n",
       "   '$operationMetrics': 0,\n",
       "   '$out': 0,\n",
       "   '$planCacheStats': 0,\n",
       "   '$project': 0,\n",
       "   '$queue': 0,\n",
       "   '$redact': 0,\n",
       "   '$replaceRoot': 0,\n",
       "   '$replaceWith': 0,\n",
       "   '$sample': 0,\n",
       "   '$set': 0,\n",
       "   '$setWindowFields': 0,\n",
       "   '$skip': 0,\n",
       "   '$sort': 0,\n",
       "   '$sortByCount': 0,\n",
       "   '$unionWith': 0,\n",
       "   '$unset': 0,\n",
       "   '$unwind': 0},\n",
       "  'commands': {'<UNKNOWN>': 0,\n",
       "   '_addShard': {'failed': 0, 'total': 0},\n",
       "   '_cloneCollectionOptionsFromPrimaryShard': {'failed': 0, 'total': 0},\n",
       "   '_configsvrAbortReshardCollection': {'failed': 0, 'total': 0},\n",
       "   '_configsvrAddShard': {'failed': 0, 'total': 0},\n",
       "   '_configsvrAddShardToZone': {'failed': 0, 'total': 0},\n",
       "   '_configsvrBalancerCollectionStatus': {'failed': 0, 'total': 0},\n",
       "   '_configsvrBalancerStart': {'failed': 0, 'total': 0},\n",
       "   '_configsvrBalancerStatus': {'failed': 0, 'total': 0},\n",
       "   '_configsvrBalancerStop': {'failed': 0, 'total': 0},\n",
       "   '_configsvrCleanupReshardCollection': {'failed': 0, 'total': 0},\n",
       "   '_configsvrClearJumboFlag': {'failed': 0, 'total': 0},\n",
       "   '_configsvrCommitChunkMerge': {'failed': 0, 'total': 0},\n",
       "   '_configsvrCommitChunkMigration': {'failed': 0, 'total': 0},\n",
       "   '_configsvrCommitChunkSplit': {'failed': 0, 'total': 0},\n",
       "   '_configsvrCommitChunksMerge': {'failed': 0, 'total': 0},\n",
       "   '_configsvrCommitMovePrimary': {'failed': 0, 'total': 0},\n",
       "   '_configsvrCommitReshardCollection': {'failed': 0, 'total': 0},\n",
       "   '_configsvrCreateDatabase': {'failed': 0, 'total': 0},\n",
       "   '_configsvrDropCollection': {'failed': 0, 'total': 0},\n",
       "   '_configsvrDropDatabase': {'failed': 0, 'total': 0},\n",
       "   '_configsvrEnableSharding': {'failed': 0, 'total': 0},\n",
       "   '_configsvrEnsureChunkVersionIsGreaterThan': {'failed': 0, 'total': 0},\n",
       "   '_configsvrMoveChunk': {'failed': 0, 'total': 0},\n",
       "   '_configsvrMovePrimary': {'failed': 0, 'total': 0},\n",
       "   '_configsvrRefineCollectionShardKey': {'failed': 0, 'total': 0},\n",
       "   '_configsvrRemoveChunks': {'failed': 0, 'total': 0},\n",
       "   '_configsvrRemoveShard': {'failed': 0, 'total': 0},\n",
       "   '_configsvrRemoveShardFromZone': {'failed': 0, 'total': 0},\n",
       "   '_configsvrRemoveTags': {'failed': 0, 'total': 0},\n",
       "   '_configsvrRenameCollectionMetadata': {'failed': 0, 'total': 0},\n",
       "   '_configsvrReshardCollection': {'failed': 0, 'total': 0},\n",
       "   '_configsvrSetAllowMigrations': {'failed': 0, 'total': 0},\n",
       "   '_configsvrShardCollection': {'failed': 0, 'total': 0},\n",
       "   '_configsvrUpdateZoneKeyRange': {'failed': 0, 'total': 0},\n",
       "   '_flushDatabaseCacheUpdates': {'failed': 0, 'total': 0},\n",
       "   '_flushDatabaseCacheUpdatesWithWriteConcern': {'failed': 0, 'total': 0},\n",
       "   '_flushReshardingStateChange': {'failed': 0, 'total': 0},\n",
       "   '_flushRoutingTableCacheUpdates': {'failed': 0, 'total': 0},\n",
       "   '_flushRoutingTableCacheUpdatesWithWriteConcern': {'failed': 0, 'total': 0},\n",
       "   '_getNextSessionMods': {'failed': 0, 'total': 0},\n",
       "   '_getUserCacheGeneration': {'failed': 0, 'total': 0},\n",
       "   '_isSelf': {'failed': 0, 'total': 0},\n",
       "   '_killOperations': {'failed': 0, 'total': 0},\n",
       "   '_mergeAuthzCollections': {'failed': 0, 'total': 0},\n",
       "   '_migrateClone': {'failed': 0, 'total': 0},\n",
       "   '_recvChunkAbort': {'failed': 0, 'total': 0},\n",
       "   '_recvChunkCommit': {'failed': 0, 'total': 0},\n",
       "   '_recvChunkStart': {'failed': 0, 'total': 0},\n",
       "   '_recvChunkStatus': {'failed': 0, 'total': 0},\n",
       "   '_shardsvrAbortReshardCollection': {'failed': 0, 'total': 0},\n",
       "   '_shardsvrCleanupReshardCollection': {'failed': 0, 'total': 0},\n",
       "   '_shardsvrCloneCatalogData': {'failed': 0, 'total': 0},\n",
       "   '_shardsvrCommitReshardCollection': {'failed': 0, 'total': 0},\n",
       "   '_shardsvrCreateCollection': {'failed': 0, 'total': 0},\n",
       "   '_shardsvrCreateCollectionParticipant': {'failed': 0, 'total': 0},\n",
       "   '_shardsvrDropCollection': {'failed': 0, 'total': 0},\n",
       "   '_shardsvrDropCollectionIfUUIDNotMatching': {'failed': 0, 'total': 0},\n",
       "   '_shardsvrDropCollectionParticipant': {'failed': 0, 'total': 0},\n",
       "   '_shardsvrDropDatabase': {'failed': 0, 'total': 0},\n",
       "   '_shardsvrDropDatabaseParticipant': {'failed': 0, 'total': 0},\n",
       "   '_shardsvrMovePrimary': {'failed': 0, 'total': 0},\n",
       "   '_shardsvrRefineCollectionShardKey': {'failed': 0, 'total': 0},\n",
       "   '_shardsvrRenameCollection': {'failed': 0, 'total': 0},\n",
       "   '_shardsvrRenameCollectionParticipant': {'failed': 0, 'total': 0},\n",
       "   '_shardsvrRenameCollectionParticipantUnblock': {'failed': 0, 'total': 0},\n",
       "   '_shardsvrReshardCollection': {'failed': 0, 'total': 0},\n",
       "   '_shardsvrReshardingOperationTime': {'failed': 0, 'total': 0},\n",
       "   '_shardsvrShardCollection': {'failed': 0, 'total': 0},\n",
       "   '_transferMods': {'failed': 0, 'total': 0},\n",
       "   'abortTransaction': {'failed': 0, 'total': 0},\n",
       "   'aggregate': {'failed': 0, 'total': 0},\n",
       "   'appendOplogNote': {'failed': 0, 'total': 0},\n",
       "   'applyOps': {'failed': 0, 'total': 0},\n",
       "   'authenticate': {'failed': 0, 'total': 0},\n",
       "   'autoSplitVector': {'failed': 0, 'total': 0},\n",
       "   'availableQueryOptions': {'failed': 0, 'total': 0},\n",
       "   'buildInfo': {'failed': 0, 'total': 0},\n",
       "   'checkShardingIndex': {'failed': 0, 'total': 0},\n",
       "   'cleanupOrphaned': {'failed': 0, 'total': 0},\n",
       "   'cloneCollectionAsCapped': {'failed': 0, 'total': 0},\n",
       "   'collMod': {'failed': 0, 'total': 0},\n",
       "   'collStats': {'failed': 0, 'total': 0},\n",
       "   'commitTransaction': {'failed': 0, 'total': 0},\n",
       "   'compact': {'failed': 0, 'total': 0},\n",
       "   'connPoolStats': {'failed': 0, 'total': 0},\n",
       "   'connPoolSync': {'failed': 0, 'total': 0},\n",
       "   'connectionStatus': {'failed': 0, 'total': 0},\n",
       "   'convertToCapped': {'failed': 0, 'total': 0},\n",
       "   'coordinateCommitTransaction': {'failed': 0, 'total': 0},\n",
       "   'count': {'failed': 0, 'total': 0},\n",
       "   'create': {'failed': 0, 'total': 0},\n",
       "   'createIndexes': {'failed': 0, 'total': 0},\n",
       "   'createRole': {'failed': 0, 'total': 0},\n",
       "   'createUser': {'failed': 0, 'total': 0},\n",
       "   'currentOp': {'failed': 0, 'total': 0},\n",
       "   'dataSize': {'failed': 0, 'total': 0},\n",
       "   'dbHash': {'failed': 0, 'total': 0},\n",
       "   'dbStats': {'failed': 0, 'total': 0},\n",
       "   'delete': {'failed': 0, 'total': 0},\n",
       "   'distinct': {'failed': 0, 'total': 0},\n",
       "   'donorAbortMigration': {'failed': 0, 'total': 0},\n",
       "   'donorForgetMigration': {'failed': 0, 'total': 0},\n",
       "   'donorStartMigration': {'failed': 0, 'total': 0},\n",
       "   'driverOIDTest': {'failed': 0, 'total': 0},\n",
       "   'drop': {'failed': 0, 'total': 0},\n",
       "   'dropAllRolesFromDatabase': {'failed': 0, 'total': 0},\n",
       "   'dropAllUsersFromDatabase': {'failed': 0, 'total': 0},\n",
       "   'dropConnections': {'failed': 0, 'total': 0},\n",
       "   'dropDatabase': {'failed': 0, 'total': 0},\n",
       "   'dropIndexes': {'failed': 0, 'total': 0},\n",
       "   'dropRole': {'failed': 0, 'total': 0},\n",
       "   'dropUser': {'failed': 0, 'total': 0},\n",
       "   'endSessions': {'failed': 0, 'total': 0},\n",
       "   'explain': {'failed': 0, 'total': 0},\n",
       "   'features': {'failed': 0, 'total': 0},\n",
       "   'filemd5': {'failed': 0, 'total': 0},\n",
       "   'find': {'failed': 0, 'total': 1},\n",
       "   'findAndModify': {'arrayFilters': 0,\n",
       "    'failed': 0,\n",
       "    'pipeline': 0,\n",
       "    'total': 0},\n",
       "   'flushRouterConfig': {'failed': 0, 'total': 0},\n",
       "   'fsync': {'failed': 0, 'total': 0},\n",
       "   'fsyncUnlock': {'failed': 0, 'total': 0},\n",
       "   'getCmdLineOpts': {'failed': 0, 'total': 0},\n",
       "   'getDatabaseVersion': {'failed': 0, 'total': 0},\n",
       "   'getDefaultRWConcern': {'failed': 0, 'total': 0},\n",
       "   'getDiagnosticData': {'failed': 0, 'total': 0},\n",
       "   'getFreeMonitoringStatus': {'failed': 0, 'total': 0},\n",
       "   'getLastError': {'failed': 0, 'total': 0},\n",
       "   'getLog': {'failed': 0, 'total': 0},\n",
       "   'getMore': {'failed': 0, 'total': 0},\n",
       "   'getParameter': {'failed': 0, 'total': 0},\n",
       "   'getShardMap': {'failed': 0, 'total': 0},\n",
       "   'getShardVersion': {'failed': 0, 'total': 0},\n",
       "   'getnonce': {'failed': 0, 'total': 0},\n",
       "   'grantPrivilegesToRole': {'failed': 0, 'total': 0},\n",
       "   'grantRolesToRole': {'failed': 0, 'total': 0},\n",
       "   'grantRolesToUser': {'failed': 0, 'total': 0},\n",
       "   'hello': {'failed': 0, 'total': 0},\n",
       "   'hostInfo': {'failed': 0, 'total': 0},\n",
       "   'insert': {'failed': 0, 'total': 0},\n",
       "   'internalRenameIfOptionsAndIndexesMatch': {'failed': 0, 'total': 0},\n",
       "   'invalidateUserCache': {'failed': 0, 'total': 0},\n",
       "   'isMaster': {'failed': 0, 'total': 4},\n",
       "   'killAllSessions': {'failed': 0, 'total': 0},\n",
       "   'killAllSessionsByPattern': {'failed': 0, 'total': 0},\n",
       "   'killCursors': {'failed': 0, 'total': 0},\n",
       "   'killOp': {'failed': 0, 'total': 0},\n",
       "   'killSessions': {'failed': 0, 'total': 0},\n",
       "   'listCollections': {'failed': 0, 'total': 0},\n",
       "   'listCommands': {'failed': 0, 'total': 0},\n",
       "   'listDatabases': {'failed': 0, 'total': 0},\n",
       "   'listIndexes': {'failed': 0, 'total': 2},\n",
       "   'lockInfo': {'failed': 0, 'total': 0},\n",
       "   'logRotate': {'failed': 0, 'total': 0},\n",
       "   'logout': {'failed': 0, 'total': 0},\n",
       "   'mapReduce': {'failed': 0, 'total': 0},\n",
       "   'mergeChunks': {'failed': 0, 'total': 0},\n",
       "   'moveChunk': {'failed': 0, 'total': 0},\n",
       "   'ping': {'failed': 0, 'total': 0},\n",
       "   'planCacheClear': {'failed': 0, 'total': 0},\n",
       "   'planCacheClearFilters': {'failed': 0, 'total': 0},\n",
       "   'planCacheListFilters': {'failed': 0, 'total': 0},\n",
       "   'planCacheSetFilter': {'failed': 0, 'total': 0},\n",
       "   'prepareTransaction': {'failed': 0, 'total': 0},\n",
       "   'profile': {'failed': 0, 'total': 0},\n",
       "   'reIndex': {'failed': 0, 'total': 0},\n",
       "   'recipientForgetMigration': {'failed': 0, 'total': 0},\n",
       "   'recipientSyncData': {'failed': 0, 'total': 0},\n",
       "   'refreshSessions': {'failed': 0, 'total': 0},\n",
       "   'renameCollection': {'failed': 0, 'total': 0},\n",
       "   'repairDatabase': {'failed': 0, 'total': 0},\n",
       "   'replSetAbortPrimaryCatchUp': {'failed': 0, 'total': 0},\n",
       "   'replSetFreeze': {'failed': 0, 'total': 0},\n",
       "   'replSetGetConfig': {'failed': 0, 'total': 0},\n",
       "   'replSetGetRBID': {'failed': 0, 'total': 0},\n",
       "   'replSetGetStatus': {'failed': 0, 'total': 0},\n",
       "   'replSetHeartbeat': {'failed': 0, 'total': 0},\n",
       "   'replSetInitiate': {'failed': 0, 'total': 0},\n",
       "   'replSetMaintenance': {'failed': 0, 'total': 0},\n",
       "   'replSetReconfig': {'failed': 0, 'total': 0},\n",
       "   'replSetRequestVotes': {'failed': 0, 'total': 0},\n",
       "   'replSetResizeOplog': {'failed': 0, 'total': 0},\n",
       "   'replSetStepDown': {'failed': 0, 'total': 0},\n",
       "   'replSetStepDownWithForce': {'failed': 0, 'total': 0},\n",
       "   'replSetStepUp': {'failed': 0, 'total': 0},\n",
       "   'replSetSyncFrom': {'failed': 0, 'total': 0},\n",
       "   'replSetUpdatePosition': {'failed': 0, 'total': 0},\n",
       "   'revokePrivilegesFromRole': {'failed': 0, 'total': 0},\n",
       "   'revokeRolesFromRole': {'failed': 0, 'total': 0},\n",
       "   'revokeRolesFromUser': {'failed': 0, 'total': 0},\n",
       "   'rolesInfo': {'failed': 0, 'total': 0},\n",
       "   'rotateCertificates': {'failed': 0, 'total': 0},\n",
       "   'saslContinue': {'failed': 0, 'total': 0},\n",
       "   'saslStart': {'failed': 0, 'total': 0},\n",
       "   'serverStatus': {'failed': 0, 'total': 1},\n",
       "   'setDefaultRWConcern': {'failed': 0, 'total': 0},\n",
       "   'setFeatureCompatibilityVersion': {'failed': 0, 'total': 0},\n",
       "   'setFreeMonitoring': {'failed': 0, 'total': 0},\n",
       "   'setIndexCommitQuorum': {'failed': 0, 'total': 0},\n",
       "   'setParameter': {'failed': 0, 'total': 0},\n",
       "   'setShardVersion': {'failed': 0, 'total': 0},\n",
       "   'shardingState': {'failed': 0, 'total': 0},\n",
       "   'shutdown': {'failed': 0, 'total': 0},\n",
       "   'splitChunk': {'failed': 0, 'total': 0},\n",
       "   'splitVector': {'failed': 0, 'total': 0},\n",
       "   'startRecordingTraffic': {'failed': 0, 'total': 0},\n",
       "   'startSession': {'failed': 0, 'total': 0},\n",
       "   'stopRecordingTraffic': {'failed': 0, 'total': 0},\n",
       "   'top': {'failed': 0, 'total': 0},\n",
       "   'update': {'arrayFilters': 0, 'failed': 0, 'pipeline': 0, 'total': 0},\n",
       "   'updateRole': {'failed': 0, 'total': 0},\n",
       "   'updateUser': {'failed': 0, 'total': 0},\n",
       "   'usersInfo': {'failed': 0, 'total': 0},\n",
       "   'validate': {'failed': 0, 'total': 0},\n",
       "   'validateDBMetadata': {'failed': 0, 'total': 0},\n",
       "   'voteCommitIndexBuild': {'failed': 0, 'total': 0},\n",
       "   'waitForFailPoint': {'failed': 0, 'total': 0},\n",
       "   'whatsmyuri': {'failed': 0, 'total': 0}},\n",
       "  'cursor': {'moreThanOneBatch': 0,\n",
       "   'timedOut': 0,\n",
       "   'totalOpened': 0,\n",
       "   'lifespan': {'greaterThanOrEqual10Minutes': 0,\n",
       "    'lessThan10Minutes': 0,\n",
       "    'lessThan15Seconds': 0,\n",
       "    'lessThan1Minute': 0,\n",
       "    'lessThan1Second': 0,\n",
       "    'lessThan30Seconds': 0,\n",
       "    'lessThan5Seconds': 0},\n",
       "   'open': {'noTimeout': 0, 'pinned': 0, 'total': 0}},\n",
       "  'document': {'deleted': 0, 'inserted': 0, 'returned': 0, 'updated': 0},\n",
       "  'dotsAndDollarsFields': {'inserts': 0, 'updates': 0},\n",
       "  'getLastError': {'wtime': {'num': 0, 'totalMillis': 0},\n",
       "   'wtimeouts': 0,\n",
       "   'default': {'unsatisfiable': 0, 'wtimeouts': 0}},\n",
       "  'mongos': {'cursor': {'moreThanOneBatch': 0, 'totalOpened': 0}},\n",
       "  'operation': {'scanAndOrder': 0, 'writeConflicts': 0},\n",
       "  'operatorCounters': {'expressions': {'$_internalJsEmit': 0,\n",
       "    '$abs': 0,\n",
       "    '$acos': 0,\n",
       "    '$acosh': 0,\n",
       "    '$add': 0,\n",
       "    '$allElementsTrue': 0,\n",
       "    '$and': 0,\n",
       "    '$anyElementTrue': 0,\n",
       "    '$arrayElemAt': 0,\n",
       "    '$arrayToObject': 0,\n",
       "    '$asin': 0,\n",
       "    '$asinh': 0,\n",
       "    '$atan': 0,\n",
       "    '$atan2': 0,\n",
       "    '$atanh': 0,\n",
       "    '$avg': 0,\n",
       "    '$binarySize': 0,\n",
       "    '$bsonSize': 0,\n",
       "    '$ceil': 0,\n",
       "    '$cmp': 0,\n",
       "    '$concat': 0,\n",
       "    '$concatArrays': 0,\n",
       "    '$cond': 0,\n",
       "    '$const': 0,\n",
       "    '$convert': 0,\n",
       "    '$cos': 0,\n",
       "    '$cosh': 0,\n",
       "    '$dateAdd': 0,\n",
       "    '$dateDiff': 0,\n",
       "    '$dateFromParts': 0,\n",
       "    '$dateFromString': 0,\n",
       "    '$dateSubtract': 0,\n",
       "    '$dateToParts': 0,\n",
       "    '$dateToString': 0,\n",
       "    '$dateTrunc': 0,\n",
       "    '$dayOfMonth': 0,\n",
       "    '$dayOfWeek': 0,\n",
       "    '$dayOfYear': 0,\n",
       "    '$degreesToRadians': 0,\n",
       "    '$divide': 0,\n",
       "    '$eq': 0,\n",
       "    '$exp': 0,\n",
       "    '$filter': 0,\n",
       "    '$first': 0,\n",
       "    '$floor': 0,\n",
       "    '$function': 0,\n",
       "    '$getField': 0,\n",
       "    '$gt': 0,\n",
       "    '$gte': 0,\n",
       "    '$hour': 0,\n",
       "    '$ifNull': 0,\n",
       "    '$in': 0,\n",
       "    '$indexOfArray': 0,\n",
       "    '$indexOfBytes': 0,\n",
       "    '$indexOfCP': 0,\n",
       "    '$isArray': 0,\n",
       "    '$isNumber': 0,\n",
       "    '$isoDayOfWeek': 0,\n",
       "    '$isoWeek': 0,\n",
       "    '$isoWeekYear': 0,\n",
       "    '$last': 0,\n",
       "    '$let': 0,\n",
       "    '$literal': 0,\n",
       "    '$ln': 0,\n",
       "    '$log': 0,\n",
       "    '$log10': 0,\n",
       "    '$lt': 0,\n",
       "    '$lte': 0,\n",
       "    '$ltrim': 0,\n",
       "    '$map': 0,\n",
       "    '$max': 0,\n",
       "    '$mergeObjects': 0,\n",
       "    '$meta': 0,\n",
       "    '$millisecond': 0,\n",
       "    '$min': 0,\n",
       "    '$minute': 0,\n",
       "    '$mod': 0,\n",
       "    '$month': 0,\n",
       "    '$multiply': 0,\n",
       "    '$ne': 0,\n",
       "    '$not': 0,\n",
       "    '$objectToArray': 0,\n",
       "    '$or': 0,\n",
       "    '$pow': 0,\n",
       "    '$radiansToDegrees': 0,\n",
       "    '$rand': 0,\n",
       "    '$range': 0,\n",
       "    '$reduce': 0,\n",
       "    '$regexFind': 0,\n",
       "    '$regexFindAll': 0,\n",
       "    '$regexMatch': 0,\n",
       "    '$replaceAll': 0,\n",
       "    '$replaceOne': 0,\n",
       "    '$reverseArray': 0,\n",
       "    '$round': 0,\n",
       "    '$rtrim': 0,\n",
       "    '$second': 0,\n",
       "    '$setDifference': 0,\n",
       "    '$setEquals': 0,\n",
       "    '$setField': 0,\n",
       "    '$setIntersection': 0,\n",
       "    '$setIsSubset': 0,\n",
       "    '$setUnion': 0,\n",
       "    '$sin': 0,\n",
       "    '$sinh': 0,\n",
       "    '$size': 0,\n",
       "    '$slice': 0,\n",
       "    '$split': 0,\n",
       "    '$sqrt': 0,\n",
       "    '$stdDevPop': 0,\n",
       "    '$stdDevSamp': 0,\n",
       "    '$strLenBytes': 0,\n",
       "    '$strLenCP': 0,\n",
       "    '$strcasecmp': 0,\n",
       "    '$substr': 0,\n",
       "    '$substrBytes': 0,\n",
       "    '$substrCP': 0,\n",
       "    '$subtract': 0,\n",
       "    '$sum': 0,\n",
       "    '$switch': 0,\n",
       "    '$tan': 0,\n",
       "    '$tanh': 0,\n",
       "    '$toBool': 0,\n",
       "    '$toDate': 0,\n",
       "    '$toDecimal': 0,\n",
       "    '$toDouble': 0,\n",
       "    '$toHashedIndexKey': 0,\n",
       "    '$toInt': 0,\n",
       "    '$toLong': 0,\n",
       "    '$toLower': 0,\n",
       "    '$toObjectId': 0,\n",
       "    '$toString': 0,\n",
       "    '$toUpper': 0,\n",
       "    '$trim': 0,\n",
       "    '$trunc': 0,\n",
       "    '$type': 0,\n",
       "    '$unsetField': 0,\n",
       "    '$week': 0,\n",
       "    '$year': 0,\n",
       "    '$zip': 0},\n",
       "   'match': {'$all': 0,\n",
       "    '$alwaysFalse': 0,\n",
       "    '$alwaysTrue': 0,\n",
       "    '$and': 0,\n",
       "    '$bitsAllClear': 0,\n",
       "    '$bitsAllSet': 0,\n",
       "    '$bitsAnyClear': 0,\n",
       "    '$bitsAnySet': 0,\n",
       "    '$comment': 0,\n",
       "    '$elemMatch': 0,\n",
       "    '$eq': 0,\n",
       "    '$exists': 0,\n",
       "    '$expr': 0,\n",
       "    '$geoIntersects': 0,\n",
       "    '$geoWithin': 0,\n",
       "    '$gt': 0,\n",
       "    '$gte': 0,\n",
       "    '$in': 0,\n",
       "    '$jsonSchema': 0,\n",
       "    '$lt': 1,\n",
       "    '$lte': 0,\n",
       "    '$mod': 0,\n",
       "    '$ne': 0,\n",
       "    '$near': 0,\n",
       "    '$nearSphere': 0,\n",
       "    '$nin': 0,\n",
       "    '$nor': 0,\n",
       "    '$not': 0,\n",
       "    '$or': 0,\n",
       "    '$regex': 0,\n",
       "    '$sampleRate': 0,\n",
       "    '$size': 0,\n",
       "    '$text': 0,\n",
       "    '$type': 0,\n",
       "    '$where': 0}},\n",
       "  'query': {'planCacheTotalSizeEstimateBytes': 0,\n",
       "   'updateOneOpStyleBroadcastWithExactIDCount': 0},\n",
       "  'queryExecutor': {'scanned': 0,\n",
       "   'scannedObjects': 0,\n",
       "   'collectionScans': {'nonTailable': 0, 'total': 0}},\n",
       "  'record': {'moves': 0},\n",
       "  'repl': {'executor': {'pool': {'inProgressCount': 0},\n",
       "    'queues': {'networkInProgress': 0, 'sleepers': 0},\n",
       "    'unsignaledEvents': 0,\n",
       "    'shuttingDown': False,\n",
       "    'networkInterface': 'DEPRECATED: getDiagnosticString is deprecated in NetworkInterfaceTL'},\n",
       "   'apply': {'attemptsToBecomeSecondary': 0,\n",
       "    'batchSize': 0,\n",
       "    'batches': {'num': 0, 'totalMillis': 0},\n",
       "    'ops': 0},\n",
       "   'buffer': {'count': 0, 'maxSizeBytes': 0, 'sizeBytes': 0},\n",
       "   'initialSync': {'completed': 0, 'failedAttempts': 0, 'failures': 0},\n",
       "   'network': {'bytes': 0,\n",
       "    'getmores': {'num': 0, 'totalMillis': 0, 'numEmptyBatches': 0},\n",
       "    'notPrimaryLegacyUnacknowledgedWrites': 0,\n",
       "    'notPrimaryUnacknowledgedWrites': 0,\n",
       "    'oplogGetMoresProcessed': {'num': 0, 'totalMillis': 0},\n",
       "    'ops': 0,\n",
       "    'readersCreated': 0,\n",
       "    'replSetUpdatePosition': {'num': 0}},\n",
       "   'reconfig': {'numAutoReconfigsForRemovalOfNewlyAddedFields': 0},\n",
       "   'stateTransition': {'lastStateTransition': '',\n",
       "    'userOperationsKilled': 0,\n",
       "    'userOperationsRunning': 0},\n",
       "   'syncSource': {'numSelections': 0,\n",
       "    'numSyncSourceChangesDueToSignificantlyCloserNode': 0,\n",
       "    'numTimesChoseDifferent': 0,\n",
       "    'numTimesChoseSame': 0,\n",
       "    'numTimesCouldNotFind': 0}},\n",
       "  'ttl': {'deletedDocuments': 0, 'passes': 2}},\n",
       " 'ok': 1.0}"
      ]
     },
     "execution_count": 7,
     "metadata": {},
     "output_type": "execute_result"
    }
   ],
   "source": [
    "db_series.command(\"serverStatus\")"
   ]
  },
  {
   "cell_type": "code",
   "execution_count": 8,
   "metadata": {},
   "outputs": [],
   "source": [
    "collection_peaky = db_series['peaky'] "
   ]
  },
  {
   "cell_type": "code",
   "execution_count": 9,
   "metadata": {},
   "outputs": [
    {
     "data": {
      "text/plain": [
       "Collection(Database(MongoClient(host=['mongo:27017'], document_class=dict, tz_aware=False, connect=True), 'series'), 'peaky')"
      ]
     },
     "execution_count": 9,
     "metadata": {},
     "output_type": "execute_result"
    }
   ],
   "source": [
    "collection_peaky"
   ]
  },
  {
   "cell_type": "code",
   "execution_count": 10,
   "metadata": {
    "scrolled": false
   },
   "outputs": [
    {
     "data": {
      "text/plain": [
       "<pymongo.results.InsertOneResult at 0x7ff6102ff840>"
      ]
     },
     "execution_count": 10,
     "metadata": {},
     "output_type": "execute_result"
    }
   ],
   "source": [
    "collection_peaky.insert_one(\n",
    "    {\n",
    "    \"firstname\" : \"Thomas\",\n",
    "    \"lastname\" : \"Shelby\",\n",
    "    \"position\" : \"CEO\",\n",
    "    \"gender\" : \"Male\",\n",
    "    \"age\" : 35,\n",
    "    \"description\" : \"Thomas 'Tommy' Michael Shelby M.P. OBE, is the leader of the Birmingham criminal gang Peaky Blinders and the patriarch of the Shelby Family. His experiences during and after the First World War have left him disillusioned and determined to move his family up in the world.\",\n",
    "    \"nicknames\" : [\"Tom\", \"Tommy\", \"Thomas\"],\n",
    "    \"company\" : \"Peaky Blinders\",\n",
    "    \"episodes\" : [1,2,4,5,6]\n",
    "    })"
   ]
  },
  {
   "cell_type": "code",
   "execution_count": 11,
   "metadata": {
    "scrolled": true
   },
   "outputs": [
    {
     "data": {
      "text/plain": [
       "{'version': '5.0.5',\n",
       " 'gitVersion': 'd65fd89df3fc039b5c55933c0f71d647a54510ae',\n",
       " 'modules': [],\n",
       " 'allocator': 'tcmalloc',\n",
       " 'javascriptEngine': 'mozjs',\n",
       " 'sysInfo': 'deprecated',\n",
       " 'versionArray': [5, 0, 5, 0],\n",
       " 'openssl': {'running': 'OpenSSL 1.1.1f  31 Mar 2020',\n",
       "  'compiled': 'OpenSSL 1.1.1f  31 Mar 2020'},\n",
       " 'buildEnvironment': {'distmod': 'ubuntu2004',\n",
       "  'distarch': 'x86_64',\n",
       "  'cc': '/opt/mongodbtoolchain/v3/bin/gcc: gcc (GCC) 8.5.0',\n",
       "  'ccflags': '-Werror -include mongo/platform/basic.h -fasynchronous-unwind-tables -ggdb -Wall -Wsign-compare -Wno-unknown-pragmas -Winvalid-pch -fno-omit-frame-pointer -fno-strict-aliasing -O2 -march=sandybridge -mtune=generic -mprefer-vector-width=128 -Wno-unused-local-typedefs -Wno-unused-function -Wno-deprecated-declarations -Wno-unused-const-variable -Wno-unused-but-set-variable -Wno-missing-braces -fstack-protector-strong -Wa,--nocompress-debug-sections -fno-builtin-memcmp',\n",
       "  'cxx': '/opt/mongodbtoolchain/v3/bin/g++: g++ (GCC) 8.5.0',\n",
       "  'cxxflags': '-Woverloaded-virtual -Wno-maybe-uninitialized -fsized-deallocation -std=c++17',\n",
       "  'linkflags': '-Wl,--fatal-warnings -pthread -Wl,-z,now -fuse-ld=gold -fstack-protector-strong -Wl,--no-threads -Wl,--build-id -Wl,--hash-style=gnu -Wl,-z,noexecstack -Wl,--warn-execstack -Wl,-z,relro -Wl,--compress-debug-sections=none -Wl,-z,origin -Wl,--enable-new-dtags',\n",
       "  'target_arch': 'x86_64',\n",
       "  'target_os': 'linux',\n",
       "  'cppdefines': 'SAFEINT_USE_INTRINSICS 0 PCRE_STATIC NDEBUG _XOPEN_SOURCE 700 _GNU_SOURCE _FORTIFY_SOURCE 2 BOOST_THREAD_VERSION 5 BOOST_THREAD_USES_DATETIME BOOST_SYSTEM_NO_DEPRECATED BOOST_MATH_NO_LONG_DOUBLE_MATH_FUNCTIONS BOOST_ENABLE_ASSERT_DEBUG_HANDLER BOOST_LOG_NO_SHORTHAND_NAMES BOOST_LOG_USE_NATIVE_SYSLOG BOOST_LOG_WITHOUT_THREAD_ATTR ABSL_FORCE_ALIGNED_ACCESS'},\n",
       " 'bits': 64,\n",
       " 'debug': False,\n",
       " 'maxBsonObjectSize': 16777216,\n",
       " 'storageEngines': ['devnull', 'ephemeralForTest', 'wiredTiger'],\n",
       " 'ok': 1.0}"
      ]
     },
     "execution_count": 11,
     "metadata": {},
     "output_type": "execute_result"
    }
   ],
   "source": [
    "client.server_info()"
   ]
  },
  {
   "cell_type": "code",
   "execution_count": 12,
   "metadata": {},
   "outputs": [],
   "source": [
    "DOCUMENTS = [\n",
    "    {\n",
    "    \"firstname\" : \"Thomas\",\n",
    "    \"lastname\" : \"Shelby\",\n",
    "    \"position\" : \"CEO\",\n",
    "    \"gender\" : \"Male\",\n",
    "    \"age\" : 35,\n",
    "    \"description\" : \"Thomas 'Tommy' Michael Shelby M.P. OBE, is the leader of the Birmingham criminal gang Peaky Blinders and the patriarch of the Shelby Family. His experiences during and after the First World War have left him disillusioned and determined to move his family up in the world.\",\n",
    "    \"nicknames\" : [\"Tom\", \"Tommy\", \"Thomas\"],\n",
    "    \"company\" : \"Peaky Blinders\",\n",
    "    \"episodes\" : [1,2,4,5,6]\n",
    "    }, \n",
    "{\n",
    "    \"firstname\" : \"Arthur\",\n",
    "    \"lastname\" : \"Shelby\",\n",
    "    \"position\" : \"Associate\",\n",
    "    \"gender\" : \"Male\",\n",
    "    \"age\" : 38,\n",
    "    \"description\" : \"Arthur Shelby Jr. is the eldest of the Shelby siblings and the tough member of Peaky Blinders, the Deputy Vice President Shelby Company Limited. He's also a member of the ICA.\",\n",
    "    \"company\" : \"Peaky Blinders\",\n",
    "    \"episodes\" : [1,4,6]\n",
    "\n",
    "},{\n",
    "    \"firstname\" : \"John\",\n",
    "    \"lastname\" : \"Shelby\",\n",
    "    \"position\" : \"Associate\",\n",
    "    \"gender\" : \"Male\",\n",
    "    \"age\" : 30,\n",
    "    \"description\" : \"John Michael Shelby, also called Johnny or John Boy, was the third of Shelby siblings and a member of the Peaky Blinders.\",\n",
    "    \"nicknames\" : [\"Johnny\", \"John Boy\"],\n",
    "    \"company\" : \"Peaky Blinders\",\n",
    "    \"episodes\" : [4,5,6]\n",
    "},{\n",
    "    \"firstname\" : \"Ada\",\n",
    "    \"lastname\" : \"Thorne\",\n",
    "    \"position\" : \"HR\",\n",
    "    \"gender\" : \"Female\",\n",
    "    \"age\" : 28,\n",
    "    \"description\" : \"Ada Thorne is the fourth and only female of the Shelby sibling. She's the Head of Acquisitions of the Shelby Company Limited.\",\n",
    "    \"nicknames\" : [\"Ada Shelby\"],\n",
    "    \"company\" : \"Peaky Blinders\",\n",
    "    \"episodes\" : [1,2,6]\n",
    "},{\n",
    "    \"firstname\" : \"Michael\",\n",
    "    \"lastname\" : \"Gray\",\n",
    "    \"position\" : \"Accounting\",\n",
    "    \"gender\" : \"Male\",\n",
    "    \"age\" : 21,\n",
    "    \"description\" : \"Michael Gray is the son of Polly Shelby, his father is dead, and cousin of the Shelby siblings. He is the Chief Accountant in the Shelby Company Limited.\",\n",
    "    \"nicknames\" : [\"Henry Johnson\", \"Jobbie Muncher\", \"Mickey\"],\n",
    "    \"company\" : \"Peaky Blinders\",\n",
    "    \"episodes\" : [5,6]\n",
    "},{\n",
    "    \"firstname\" : \"Polly\",\n",
    "    \"lastname\" : \"Gray\",\n",
    "    \"gender\" : \"Female\",\n",
    "    \"age\" : 45,\n",
    "    \"position\" : \"CFO\",\n",
    "    \"description\" : \"Elizabeth Polly Gray (née Shelby) is the matriarch of the Shelby Family, aunt of the Shelby siblings, the treasurer of the Birmingham criminal gang, the Peaky Blinders, a certified accountant and company treasurer of Shelby Company Limited. \",\n",
    "    \"nicknames\" : [\"Aunt Polly\", \"Polly Gray\", \"Elizabeth Gray\", \"Polly Shelby\", \"Pol\"],\n",
    "    \"company\" : \"Peaky Blinders\",\n",
    "    \"episodes\" : [1,2,5,6]\n",
    "}]"
   ]
  },
  {
   "cell_type": "code",
   "execution_count": 13,
   "metadata": {},
   "outputs": [
    {
     "data": {
      "text/plain": [
       "<pymongo.results.InsertManyResult at 0x7ff611bac280>"
      ]
     },
     "execution_count": 13,
     "metadata": {},
     "output_type": "execute_result"
    }
   ],
   "source": [
    "collection_peaky.insert_many(DOCUMENTS)"
   ]
  },
  {
   "cell_type": "code",
   "execution_count": 14,
   "metadata": {},
   "outputs": [
    {
     "name": "stderr",
     "output_type": "stream",
     "text": [
      "/tmp/ipykernel_32/3529045400.py:1: DeprecationWarning: collection_names is deprecated. Use list_collection_names instead.\n",
      "  db_series.collection_names()\n"
     ]
    },
    {
     "data": {
      "text/plain": [
       "['peaky']"
      ]
     },
     "execution_count": 14,
     "metadata": {},
     "output_type": "execute_result"
    }
   ],
   "source": [
    "db_series.collection_names()"
   ]
  },
  {
   "cell_type": "markdown",
   "metadata": {},
   "source": [
    "La base de données à bien été créée. Maintenant, pour récupérer un document :"
   ]
  },
  {
   "cell_type": "markdown",
   "metadata": {},
   "source": [
    "## Requêter"
   ]
  },
  {
   "cell_type": "markdown",
   "metadata": {},
   "source": [
    "Afin de récupérer les documents stockés dans une collection, des fonctions de requête sont disponibles. La fonction `find()` permet de récupérer les N premiers documents. La fonction `find_one()` permet de récupérer le premier élément."
   ]
  },
  {
   "cell_type": "code",
   "execution_count": 15,
   "metadata": {},
   "outputs": [
    {
     "data": {
      "text/plain": [
       "{'_id': ObjectId('61c61c29cc2c77b1a1de607f'),\n",
       " 'firstname': 'Thomas',\n",
       " 'lastname': 'Shelby',\n",
       " 'position': 'CEO',\n",
       " 'gender': 'Male',\n",
       " 'age': 35,\n",
       " 'description': \"Thomas 'Tommy' Michael Shelby M.P. OBE, is the leader of the Birmingham criminal gang Peaky Blinders and the patriarch of the Shelby Family. His experiences during and after the First World War have left him disillusioned and determined to move his family up in the world.\",\n",
       " 'nicknames': ['Tom', 'Tommy', 'Thomas'],\n",
       " 'company': 'Peaky Blinders',\n",
       " 'episodes': [1, 2, 4, 5, 6]}"
      ]
     },
     "execution_count": 15,
     "metadata": {},
     "output_type": "execute_result"
    }
   ],
   "source": [
    "collection_peaky.find_one()"
   ]
  },
  {
   "cell_type": "markdown",
   "metadata": {},
   "source": [
    "Cette fonction permet de récupérer le premier élément de la collection sous la forme d'un dictionnaire.\n",
    "\n",
    "\n",
    "C'est un peu différent pour la méthode find(). Cela crée, pour des raison de performances, un curseur PyMongo. En effet, les données seront récupérées uniquement si elles sont utilisées. C'est intéressant pour des collections très volumineuses."
   ]
  },
  {
   "cell_type": "code",
   "execution_count": 16,
   "metadata": {},
   "outputs": [
    {
     "data": {
      "text/plain": [
       "pymongo.cursor.Cursor"
      ]
     },
     "execution_count": 16,
     "metadata": {},
     "output_type": "execute_result"
    }
   ],
   "source": [
    "cursor = collection_peaky.find()\n",
    "type(cursor)"
   ]
  },
  {
   "cell_type": "markdown",
   "metadata": {},
   "source": [
    "Un curseur est un type d'iterateur python, pour récupérer l'élément suivant:"
   ]
  },
  {
   "cell_type": "code",
   "execution_count": 17,
   "metadata": {},
   "outputs": [
    {
     "data": {
      "text/plain": [
       "{'_id': ObjectId('61c61c29cc2c77b1a1de607f'),\n",
       " 'firstname': 'Thomas',\n",
       " 'lastname': 'Shelby',\n",
       " 'position': 'CEO',\n",
       " 'gender': 'Male',\n",
       " 'age': 35,\n",
       " 'description': \"Thomas 'Tommy' Michael Shelby M.P. OBE, is the leader of the Birmingham criminal gang Peaky Blinders and the patriarch of the Shelby Family. His experiences during and after the First World War have left him disillusioned and determined to move his family up in the world.\",\n",
       " 'nicknames': ['Tom', 'Tommy', 'Thomas'],\n",
       " 'company': 'Peaky Blinders',\n",
       " 'episodes': [1, 2, 4, 5, 6]}"
      ]
     },
     "execution_count": 17,
     "metadata": {},
     "output_type": "execute_result"
    }
   ],
   "source": [
    "next(cursor)\n"
   ]
  },
  {
   "cell_type": "code",
   "execution_count": 18,
   "metadata": {
    "scrolled": true
   },
   "outputs": [
    {
     "name": "stdout",
     "output_type": "stream",
     "text": [
      "-----\n",
      "{'_id': ObjectId('61c61c29cc2c77b1a1de6080'), 'firstname': 'Arthur', 'lastname': 'Shelby', 'position': 'Associate', 'gender': 'Male', 'age': 38, 'description': \"Arthur Shelby Jr. is the eldest of the Shelby siblings and the tough member of Peaky Blinders, the Deputy Vice President Shelby Company Limited. He's also a member of the ICA.\", 'company': 'Peaky Blinders', 'episodes': [1, 4, 6]}\n",
      "-----\n",
      "{'_id': ObjectId('61c61c29cc2c77b1a1de6081'), 'firstname': 'John', 'lastname': 'Shelby', 'position': 'Associate', 'gender': 'Male', 'age': 30, 'description': 'John Michael Shelby, also called Johnny or John Boy, was the third of Shelby siblings and a member of the Peaky Blinders.', 'nicknames': ['Johnny', 'John Boy'], 'company': 'Peaky Blinders', 'episodes': [4, 5, 6]}\n",
      "-----\n",
      "{'_id': ObjectId('61c61c29cc2c77b1a1de6082'), 'firstname': 'Ada', 'lastname': 'Thorne', 'position': 'HR', 'gender': 'Female', 'age': 28, 'description': \"Ada Thorne is the fourth and only female of the Shelby sibling. She's the Head of Acquisitions of the Shelby Company Limited.\", 'nicknames': ['Ada Shelby'], 'company': 'Peaky Blinders', 'episodes': [1, 2, 6]}\n",
      "-----\n",
      "{'_id': ObjectId('61c61c29cc2c77b1a1de6083'), 'firstname': 'Michael', 'lastname': 'Gray', 'position': 'Accounting', 'gender': 'Male', 'age': 21, 'description': 'Michael Gray is the son of Polly Shelby, his father is dead, and cousin of the Shelby siblings. He is the Chief Accountant in the Shelby Company Limited.', 'nicknames': ['Henry Johnson', 'Jobbie Muncher', 'Mickey'], 'company': 'Peaky Blinders', 'episodes': [5, 6]}\n",
      "-----\n",
      "{'_id': ObjectId('61c61c29cc2c77b1a1de6084'), 'firstname': 'Polly', 'lastname': 'Gray', 'gender': 'Female', 'age': 45, 'position': 'CFO', 'description': 'Elizabeth Polly Gray (née Shelby) is the matriarch of the Shelby Family, aunt of the Shelby siblings, the treasurer of the Birmingham criminal gang, the Peaky Blinders, a certified accountant and company treasurer of Shelby Company Limited. ', 'nicknames': ['Aunt Polly', 'Polly Gray', 'Elizabeth Gray', 'Polly Shelby', 'Pol'], 'company': 'Peaky Blinders', 'episodes': [1, 2, 5, 6]}\n",
      "-----\n",
      "{'_id': ObjectId('61c719b4a08baa3fa0960cb3'), 'firstname': 'Thomas', 'lastname': 'Shelby', 'position': 'CEO', 'gender': 'Male', 'age': 35, 'description': \"Thomas 'Tommy' Michael Shelby M.P. OBE, is the leader of the Birmingham criminal gang Peaky Blinders and the patriarch of the Shelby Family. His experiences during and after the First World War have left him disillusioned and determined to move his family up in the world.\", 'nicknames': ['Tom', 'Tommy', 'Thomas'], 'company': 'Peaky Blinders', 'episodes': [1, 2, 4, 5, 6]}\n",
      "-----\n",
      "{'_id': ObjectId('61c719b4a08baa3fa0960cb4'), 'firstname': 'Thomas', 'lastname': 'Shelby', 'position': 'CEO', 'gender': 'Male', 'age': 35, 'description': \"Thomas 'Tommy' Michael Shelby M.P. OBE, is the leader of the Birmingham criminal gang Peaky Blinders and the patriarch of the Shelby Family. His experiences during and after the First World War have left him disillusioned and determined to move his family up in the world.\", 'nicknames': ['Tom', 'Tommy', 'Thomas'], 'company': 'Peaky Blinders', 'episodes': [1, 2, 4, 5, 6]}\n",
      "-----\n",
      "{'_id': ObjectId('61c719b4a08baa3fa0960cb5'), 'firstname': 'Arthur', 'lastname': 'Shelby', 'position': 'Associate', 'gender': 'Male', 'age': 38, 'description': \"Arthur Shelby Jr. is the eldest of the Shelby siblings and the tough member of Peaky Blinders, the Deputy Vice President Shelby Company Limited. He's also a member of the ICA.\", 'company': 'Peaky Blinders', 'episodes': [1, 4, 6]}\n",
      "-----\n",
      "{'_id': ObjectId('61c719b4a08baa3fa0960cb6'), 'firstname': 'John', 'lastname': 'Shelby', 'position': 'Associate', 'gender': 'Male', 'age': 30, 'description': 'John Michael Shelby, also called Johnny or John Boy, was the third of Shelby siblings and a member of the Peaky Blinders.', 'nicknames': ['Johnny', 'John Boy'], 'company': 'Peaky Blinders', 'episodes': [4, 5, 6]}\n",
      "-----\n",
      "{'_id': ObjectId('61c719b4a08baa3fa0960cb7'), 'firstname': 'Ada', 'lastname': 'Thorne', 'position': 'HR', 'gender': 'Female', 'age': 28, 'description': \"Ada Thorne is the fourth and only female of the Shelby sibling. She's the Head of Acquisitions of the Shelby Company Limited.\", 'nicknames': ['Ada Shelby'], 'company': 'Peaky Blinders', 'episodes': [1, 2, 6]}\n",
      "-----\n",
      "{'_id': ObjectId('61c719b4a08baa3fa0960cb8'), 'firstname': 'Michael', 'lastname': 'Gray', 'position': 'Accounting', 'gender': 'Male', 'age': 21, 'description': 'Michael Gray is the son of Polly Shelby, his father is dead, and cousin of the Shelby siblings. He is the Chief Accountant in the Shelby Company Limited.', 'nicknames': ['Henry Johnson', 'Jobbie Muncher', 'Mickey'], 'company': 'Peaky Blinders', 'episodes': [5, 6]}\n",
      "-----\n",
      "{'_id': ObjectId('61c719b4a08baa3fa0960cb9'), 'firstname': 'Polly', 'lastname': 'Gray', 'gender': 'Female', 'age': 45, 'position': 'CFO', 'description': 'Elizabeth Polly Gray (née Shelby) is the matriarch of the Shelby Family, aunt of the Shelby siblings, the treasurer of the Birmingham criminal gang, the Peaky Blinders, a certified accountant and company treasurer of Shelby Company Limited. ', 'nicknames': ['Aunt Polly', 'Polly Gray', 'Elizabeth Gray', 'Polly Shelby', 'Pol'], 'company': 'Peaky Blinders', 'episodes': [1, 2, 5, 6]}\n"
     ]
    }
   ],
   "source": [
    "for document in cursor :\n",
    "    print('-----')\n",
    "    print(document)"
   ]
  },
  {
   "cell_type": "code",
   "execution_count": 19,
   "metadata": {},
   "outputs": [],
   "source": [
    "for elt in cursor:\n",
    "    print(elt)"
   ]
  },
  {
   "cell_type": "markdown",
   "metadata": {},
   "source": [
    "Il est possible de passer des arguments à la fonction find() ou find_one()."
   ]
  },
  {
   "cell_type": "code",
   "execution_count": 20,
   "metadata": {
    "scrolled": false
   },
   "outputs": [
    {
     "data": {
      "text/plain": [
       "{'_id': ObjectId('61c61c29cc2c77b1a1de607f'),\n",
       " 'firstname': 'Thomas',\n",
       " 'lastname': 'Shelby',\n",
       " 'position': 'CEO',\n",
       " 'gender': 'Male',\n",
       " 'age': 35,\n",
       " 'description': \"Thomas 'Tommy' Michael Shelby M.P. OBE, is the leader of the Birmingham criminal gang Peaky Blinders and the patriarch of the Shelby Family. His experiences during and after the First World War have left him disillusioned and determined to move his family up in the world.\",\n",
       " 'nicknames': ['Tom', 'Tommy', 'Thomas'],\n",
       " 'company': 'Peaky Blinders',\n",
       " 'episodes': [1, 2, 4, 5, 6]}"
      ]
     },
     "execution_count": 20,
     "metadata": {},
     "output_type": "execute_result"
    }
   ],
   "source": [
    "cur = collection_peaky.find({\"lastname\":\"Shelby\"})\n",
    "next(cur)"
   ]
  },
  {
   "cell_type": "markdown",
   "metadata": {},
   "source": [
    "\n",
    "Les différentes opérations mathématiques sont implémentées. \n",
    "\n",
    "- Egalité :  `{key:value}` Correspondance clé valeur entre le champ et la requête. \n",
    "- Différence :  `{key: {$ne:value}}`\n",
    "- Plus (Grand|Petit) que :  les opérateurs sont `$lt` (lower than) ; `$lte` (lower than equals) ; `$gt` (greater than) ; `$gte` (greater than equals) : `{key: {<OPERATEUR>:value}}`.\n"
   ]
  },
  {
   "cell_type": "code",
   "execution_count": 21,
   "metadata": {},
   "outputs": [
    {
     "data": {
      "text/plain": [
       "{'_id': ObjectId('61c61c29cc2c77b1a1de607f'),\n",
       " 'firstname': 'Thomas',\n",
       " 'lastname': 'Shelby',\n",
       " 'position': 'CEO',\n",
       " 'gender': 'Male',\n",
       " 'age': 35,\n",
       " 'description': \"Thomas 'Tommy' Michael Shelby M.P. OBE, is the leader of the Birmingham criminal gang Peaky Blinders and the patriarch of the Shelby Family. His experiences during and after the First World War have left him disillusioned and determined to move his family up in the world.\",\n",
       " 'nicknames': ['Tom', 'Tommy', 'Thomas'],\n",
       " 'company': 'Peaky Blinders',\n",
       " 'episodes': [1, 2, 4, 5, 6]}"
      ]
     },
     "execution_count": 21,
     "metadata": {},
     "output_type": "execute_result"
    }
   ],
   "source": [
    "cur = collection_peaky.find({\"age\":{\"$gte\" :30}})\n",
    "next(cur)"
   ]
  },
  {
   "cell_type": "markdown",
   "metadata": {},
   "source": [
    "Les opérations logiques sont aussi disponibles.\n",
    "\n",
    "OR `$or` et AND `$and` permettent de faire des requêtes complexes sur une collection. \n",
    "\n"
   ]
  },
  {
   "cell_type": "code",
   "execution_count": 22,
   "metadata": {},
   "outputs": [
    {
     "data": {
      "text/plain": [
       "{'_id': ObjectId('61c61c29cc2c77b1a1de607f'),\n",
       " 'firstname': 'Thomas',\n",
       " 'lastname': 'Shelby',\n",
       " 'position': 'CEO',\n",
       " 'gender': 'Male',\n",
       " 'age': 35,\n",
       " 'description': \"Thomas 'Tommy' Michael Shelby M.P. OBE, is the leader of the Birmingham criminal gang Peaky Blinders and the patriarch of the Shelby Family. His experiences during and after the First World War have left him disillusioned and determined to move his family up in the world.\",\n",
       " 'nicknames': ['Tom', 'Tommy', 'Thomas'],\n",
       " 'company': 'Peaky Blinders',\n",
       " 'episodes': [1, 2, 4, 5, 6]}"
      ]
     },
     "execution_count": 22,
     "metadata": {},
     "output_type": "execute_result"
    }
   ],
   "source": [
    "cur = collection_peaky.find({\"$and\":[{\"age\":{\"$gte\": 28, \"$lt\":40}}, {\"lastname\":\"Shelby\"}]})\n",
    "next(cur)"
   ]
  },
  {
   "cell_type": "markdown",
   "metadata": {},
   "source": [
    "### Requêtes complexes\n",
    "\n",
    "Les objets Mongo peuvent être assez complexes et les requêtes doivent pouvoir matcher tous types de documents.\n",
    "\n",
    "Pour requêter les valeurs d'une liste : "
   ]
  },
  {
   "cell_type": "code",
   "execution_count": 23,
   "metadata": {},
   "outputs": [
    {
     "data": {
      "text/plain": [
       "{'_id': ObjectId('61c61c29cc2c77b1a1de6083'),\n",
       " 'firstname': 'Michael',\n",
       " 'lastname': 'Gray',\n",
       " 'position': 'Accounting',\n",
       " 'gender': 'Male',\n",
       " 'age': 21,\n",
       " 'description': 'Michael Gray is the son of Polly Shelby, his father is dead, and cousin of the Shelby siblings. He is the Chief Accountant in the Shelby Company Limited.',\n",
       " 'nicknames': ['Henry Johnson', 'Jobbie Muncher', 'Mickey'],\n",
       " 'company': 'Peaky Blinders',\n",
       " 'episodes': [5, 6]}"
      ]
     },
     "execution_count": 23,
     "metadata": {},
     "output_type": "execute_result"
    }
   ],
   "source": [
    "cur = collection_peaky.find( { \"nicknames\":  [\"Henry Johnson\", \"Jobbie Muncher\", \"Mickey\"] } )\n",
    "next(cur)"
   ]
  },
  {
   "cell_type": "markdown",
   "metadata": {},
   "source": [
    "Le champ `nicknames` doit matcher exactement la liste donnée en argument (en contenu et en ordre). \n"
   ]
  },
  {
   "cell_type": "code",
   "execution_count": 24,
   "metadata": {},
   "outputs": [
    {
     "ename": "StopIteration",
     "evalue": "",
     "output_type": "error",
     "traceback": [
      "\u001b[0;31m---------------------------------------------------------------------------\u001b[0m",
      "\u001b[0;31mStopIteration\u001b[0m                             Traceback (most recent call last)",
      "\u001b[0;32m/tmp/ipykernel_32/1368295928.py\u001b[0m in \u001b[0;36m<module>\u001b[0;34m\u001b[0m\n\u001b[1;32m      1\u001b[0m \u001b[0mcur\u001b[0m \u001b[0;34m=\u001b[0m \u001b[0mcollection_peaky\u001b[0m\u001b[0;34m.\u001b[0m\u001b[0mfind\u001b[0m\u001b[0;34m(\u001b[0m \u001b[0;34m{\u001b[0m \u001b[0;34m\"nicknames\"\u001b[0m\u001b[0;34m:\u001b[0m  \u001b[0;34m[\u001b[0m\u001b[0;34m\"Henry Johnson\"\u001b[0m\u001b[0;34m,\u001b[0m  \u001b[0;34m\"Mickey\"\u001b[0m\u001b[0;34m,\u001b[0m \u001b[0;34m\"Jobbie Muncher\"\u001b[0m\u001b[0;34m]\u001b[0m \u001b[0;34m}\u001b[0m \u001b[0;34m)\u001b[0m\u001b[0;34m\u001b[0m\u001b[0;34m\u001b[0m\u001b[0m\n\u001b[0;32m----> 2\u001b[0;31m \u001b[0mnext\u001b[0m\u001b[0;34m(\u001b[0m\u001b[0mcur\u001b[0m\u001b[0;34m)\u001b[0m\u001b[0;34m\u001b[0m\u001b[0;34m\u001b[0m\u001b[0m\n\u001b[0m",
      "\u001b[0;32m~/.local/share/virtualenvs/code-AFz48Hjb/lib/python3.8/site-packages/pymongo/cursor.py\u001b[0m in \u001b[0;36mnext\u001b[0;34m(self)\u001b[0m\n\u001b[1;32m   1213\u001b[0m                 \u001b[0;32mreturn\u001b[0m \u001b[0mself\u001b[0m\u001b[0;34m.\u001b[0m\u001b[0m__data\u001b[0m\u001b[0;34m.\u001b[0m\u001b[0mpopleft\u001b[0m\u001b[0;34m(\u001b[0m\u001b[0;34m)\u001b[0m\u001b[0;34m\u001b[0m\u001b[0;34m\u001b[0m\u001b[0m\n\u001b[1;32m   1214\u001b[0m         \u001b[0;32melse\u001b[0m\u001b[0;34m:\u001b[0m\u001b[0;34m\u001b[0m\u001b[0;34m\u001b[0m\u001b[0m\n\u001b[0;32m-> 1215\u001b[0;31m             \u001b[0;32mraise\u001b[0m \u001b[0mStopIteration\u001b[0m\u001b[0;34m\u001b[0m\u001b[0;34m\u001b[0m\u001b[0m\n\u001b[0m\u001b[1;32m   1216\u001b[0m \u001b[0;34m\u001b[0m\u001b[0m\n\u001b[1;32m   1217\u001b[0m     \u001b[0m__next__\u001b[0m \u001b[0;34m=\u001b[0m \u001b[0mnext\u001b[0m\u001b[0;34m\u001b[0m\u001b[0;34m\u001b[0m\u001b[0m\n",
      "\u001b[0;31mStopIteration\u001b[0m: "
     ]
    }
   ],
   "source": [
    "cur = collection_peaky.find( { \"nicknames\":  [\"Henry Johnson\",  \"Mickey\", \"Jobbie Muncher\"] } )\n",
    "next(cur)"
   ]
  },
  {
   "cell_type": "markdown",
   "metadata": {},
   "source": [
    "Lorsqu'aucun document n'a été trouvé le curseur est vide et donc renvoie une erreur lorsque l'on essaye de récupérer le prochain élément.\n",
    "\n",
    "Si maintenant on veut récupérer tous les documents avec \"Mickey\" et \"Jobbie Muncher\", peu importe l'ordre d'apparition et peu importe les autres éléments du tableau.\n"
   ]
  },
  {
   "cell_type": "code",
   "execution_count": 25,
   "metadata": {},
   "outputs": [
    {
     "data": {
      "text/plain": [
       "{'_id': ObjectId('61c61c29cc2c77b1a1de6083'),\n",
       " 'firstname': 'Michael',\n",
       " 'lastname': 'Gray',\n",
       " 'position': 'Accounting',\n",
       " 'gender': 'Male',\n",
       " 'age': 21,\n",
       " 'description': 'Michael Gray is the son of Polly Shelby, his father is dead, and cousin of the Shelby siblings. He is the Chief Accountant in the Shelby Company Limited.',\n",
       " 'nicknames': ['Henry Johnson', 'Jobbie Muncher', 'Mickey'],\n",
       " 'company': 'Peaky Blinders',\n",
       " 'episodes': [5, 6]}"
      ]
     },
     "execution_count": 25,
     "metadata": {},
     "output_type": "execute_result"
    }
   ],
   "source": [
    "cur = collection_peaky.find( { \"nicknames\":  {\"$all\" :[\"Mickey\", \"Jobbie Muncher\"] } } )\n",
    "next(cur)"
   ]
  },
  {
   "cell_type": "markdown",
   "metadata": {},
   "source": [
    "On peut vouloir maintenant récupérer tous les documents comptenant \"Mickey\" dans les nicknames (listes). \n"
   ]
  },
  {
   "cell_type": "code",
   "execution_count": 26,
   "metadata": {},
   "outputs": [
    {
     "data": {
      "text/plain": [
       "{'_id': ObjectId('61c61c29cc2c77b1a1de6083'),\n",
       " 'firstname': 'Michael',\n",
       " 'lastname': 'Gray',\n",
       " 'position': 'Accounting',\n",
       " 'gender': 'Male',\n",
       " 'age': 21,\n",
       " 'description': 'Michael Gray is the son of Polly Shelby, his father is dead, and cousin of the Shelby siblings. He is the Chief Accountant in the Shelby Company Limited.',\n",
       " 'nicknames': ['Henry Johnson', 'Jobbie Muncher', 'Mickey'],\n",
       " 'company': 'Peaky Blinders',\n",
       " 'episodes': [5, 6]}"
      ]
     },
     "execution_count": 26,
     "metadata": {},
     "output_type": "execute_result"
    }
   ],
   "source": [
    "cur = collection_peaky.find( { \"nicknames\": \"Mickey\" } )\n",
    "next(cur)"
   ]
  },
  {
   "cell_type": "markdown",
   "metadata": {},
   "source": [
    "Comme on vient de le voir, une requête sur le champ d'une liste se construit de la même manière qu'une requête sur un champ 'basique'.\n",
    "\n",
    "La syntaxe générique d'une requête Mongo est la suivante.\n",
    "```\n",
    "    db.<YOUR_COLLECTION_NAME>.find( { <array field>: { <operator1>: <value1>, ... } })\n",
    "```"
   ]
  },
  {
   "cell_type": "markdown",
   "metadata": {},
   "source": [
    "### Limitation, Projection et Tris"
   ]
  },
  {
   "cell_type": "markdown",
   "metadata": {},
   "source": [
    "Pour des raisons de performances, il peut être intéressant de limiter les accès réseaux. Pour cela, on peut sélectionner les champs devant être retournés (Projection). On peut aussi demander de limiter le nombre de documents (Limitation).\n",
    "\n",
    "La syntaxe est la suivante : \n",
    "\n",
    "```\n",
    "db.<YOUR_COLLECTION_NAME>.find(QUERY, PROJECTION).LIMIT(N_DOCUMENTS)\n",
    "```\n",
    "\n",
    "Un exemple de projection en utilisant les requêtes déjà utilisées plus haut.\n"
   ]
  },
  {
   "cell_type": "code",
   "execution_count": 27,
   "metadata": {},
   "outputs": [
    {
     "data": {
      "text/plain": [
       "{'_id': ObjectId('61c61c29cc2c77b1a1de607f'), 'position': 'CEO'}"
      ]
     },
     "execution_count": 27,
     "metadata": {},
     "output_type": "execute_result"
    }
   ],
   "source": [
    "cur = collection_peaky.find({\"lastname\":\"Shelby\"}, {\"position\":1})\n",
    "next(cur)"
   ]
  },
  {
   "cell_type": "markdown",
   "metadata": {},
   "source": [
    "Avec une requête plus complexe et une autre projection."
   ]
  },
  {
   "cell_type": "code",
   "execution_count": 28,
   "metadata": {},
   "outputs": [
    {
     "data": {
      "text/plain": [
       "{'_id': ObjectId('61c61c29cc2c77b1a1de607f'), 'firstname': 'Thomas'}"
      ]
     },
     "execution_count": 28,
     "metadata": {},
     "output_type": "execute_result"
    }
   ],
   "source": [
    "cur = collection_peaky.find({\"$and\":[{\"age\":{\"$gte\": 28, \"$lt\":40}}, {\"lastname\":\"Shelby\"}]}, {\"firstname\":1})\n",
    "next(cur)"
   ]
  },
  {
   "cell_type": "markdown",
   "metadata": {},
   "source": [
    "Un exemple de limitation : "
   ]
  },
  {
   "cell_type": "code",
   "execution_count": 29,
   "metadata": {
    "scrolled": true
   },
   "outputs": [
    {
     "data": {
      "text/plain": [
       "[{'_id': ObjectId('61c61c29cc2c77b1a1de607f'),\n",
       "  'firstname': 'Thomas',\n",
       "  'lastname': 'Shelby',\n",
       "  'position': 'CEO',\n",
       "  'gender': 'Male',\n",
       "  'age': 35,\n",
       "  'description': \"Thomas 'Tommy' Michael Shelby M.P. OBE, is the leader of the Birmingham criminal gang Peaky Blinders and the patriarch of the Shelby Family. His experiences during and after the First World War have left him disillusioned and determined to move his family up in the world.\",\n",
       "  'nicknames': ['Tom', 'Tommy', 'Thomas'],\n",
       "  'company': 'Peaky Blinders',\n",
       "  'episodes': [1, 2, 4, 5, 6]},\n",
       " {'_id': ObjectId('61c61c29cc2c77b1a1de6080'),\n",
       "  'firstname': 'Arthur',\n",
       "  'lastname': 'Shelby',\n",
       "  'position': 'Associate',\n",
       "  'gender': 'Male',\n",
       "  'age': 38,\n",
       "  'description': \"Arthur Shelby Jr. is the eldest of the Shelby siblings and the tough member of Peaky Blinders, the Deputy Vice President Shelby Company Limited. He's also a member of the ICA.\",\n",
       "  'company': 'Peaky Blinders',\n",
       "  'episodes': [1, 4, 6]}]"
      ]
     },
     "execution_count": 29,
     "metadata": {},
     "output_type": "execute_result"
    }
   ],
   "source": [
    "cur = collection_peaky.find({\"lastname\":\"Shelby\"}).limit(2)\n",
    "list(cur)"
   ]
  },
  {
   "cell_type": "markdown",
   "metadata": {},
   "source": [
    "Il est aussi possible de passer directement au Nième document avec la fonction `skip()`."
   ]
  },
  {
   "cell_type": "code",
   "execution_count": 30,
   "metadata": {},
   "outputs": [
    {
     "data": {
      "text/plain": [
       "[{'_id': ObjectId('61c61c29cc2c77b1a1de607f'),\n",
       "  'firstname': 'Thomas',\n",
       "  'lastname': 'Shelby',\n",
       "  'position': 'CEO',\n",
       "  'gender': 'Male',\n",
       "  'age': 35,\n",
       "  'description': \"Thomas 'Tommy' Michael Shelby M.P. OBE, is the leader of the Birmingham criminal gang Peaky Blinders and the patriarch of the Shelby Family. His experiences during and after the First World War have left him disillusioned and determined to move his family up in the world.\",\n",
       "  'nicknames': ['Tom', 'Tommy', 'Thomas'],\n",
       "  'company': 'Peaky Blinders',\n",
       "  'episodes': [1, 2, 4, 5, 6]},\n",
       " {'_id': ObjectId('61c61c29cc2c77b1a1de6080'),\n",
       "  'firstname': 'Arthur',\n",
       "  'lastname': 'Shelby',\n",
       "  'position': 'Associate',\n",
       "  'gender': 'Male',\n",
       "  'age': 38,\n",
       "  'description': \"Arthur Shelby Jr. is the eldest of the Shelby siblings and the tough member of Peaky Blinders, the Deputy Vice President Shelby Company Limited. He's also a member of the ICA.\",\n",
       "  'company': 'Peaky Blinders',\n",
       "  'episodes': [1, 4, 6]},\n",
       " {'_id': ObjectId('61c61c29cc2c77b1a1de6081'),\n",
       "  'firstname': 'John',\n",
       "  'lastname': 'Shelby',\n",
       "  'position': 'Associate',\n",
       "  'gender': 'Male',\n",
       "  'age': 30,\n",
       "  'description': 'John Michael Shelby, also called Johnny or John Boy, was the third of Shelby siblings and a member of the Peaky Blinders.',\n",
       "  'nicknames': ['Johnny', 'John Boy'],\n",
       "  'company': 'Peaky Blinders',\n",
       "  'episodes': [4, 5, 6]},\n",
       " {'_id': ObjectId('61c719b4a08baa3fa0960cb3'),\n",
       "  'firstname': 'Thomas',\n",
       "  'lastname': 'Shelby',\n",
       "  'position': 'CEO',\n",
       "  'gender': 'Male',\n",
       "  'age': 35,\n",
       "  'description': \"Thomas 'Tommy' Michael Shelby M.P. OBE, is the leader of the Birmingham criminal gang Peaky Blinders and the patriarch of the Shelby Family. His experiences during and after the First World War have left him disillusioned and determined to move his family up in the world.\",\n",
       "  'nicknames': ['Tom', 'Tommy', 'Thomas'],\n",
       "  'company': 'Peaky Blinders',\n",
       "  'episodes': [1, 2, 4, 5, 6]},\n",
       " {'_id': ObjectId('61c719b4a08baa3fa0960cb4'),\n",
       "  'firstname': 'Thomas',\n",
       "  'lastname': 'Shelby',\n",
       "  'position': 'CEO',\n",
       "  'gender': 'Male',\n",
       "  'age': 35,\n",
       "  'description': \"Thomas 'Tommy' Michael Shelby M.P. OBE, is the leader of the Birmingham criminal gang Peaky Blinders and the patriarch of the Shelby Family. His experiences during and after the First World War have left him disillusioned and determined to move his family up in the world.\",\n",
       "  'nicknames': ['Tom', 'Tommy', 'Thomas'],\n",
       "  'company': 'Peaky Blinders',\n",
       "  'episodes': [1, 2, 4, 5, 6]},\n",
       " {'_id': ObjectId('61c719b4a08baa3fa0960cb5'),\n",
       "  'firstname': 'Arthur',\n",
       "  'lastname': 'Shelby',\n",
       "  'position': 'Associate',\n",
       "  'gender': 'Male',\n",
       "  'age': 38,\n",
       "  'description': \"Arthur Shelby Jr. is the eldest of the Shelby siblings and the tough member of Peaky Blinders, the Deputy Vice President Shelby Company Limited. He's also a member of the ICA.\",\n",
       "  'company': 'Peaky Blinders',\n",
       "  'episodes': [1, 4, 6]},\n",
       " {'_id': ObjectId('61c719b4a08baa3fa0960cb6'),\n",
       "  'firstname': 'John',\n",
       "  'lastname': 'Shelby',\n",
       "  'position': 'Associate',\n",
       "  'gender': 'Male',\n",
       "  'age': 30,\n",
       "  'description': 'John Michael Shelby, also called Johnny or John Boy, was the third of Shelby siblings and a member of the Peaky Blinders.',\n",
       "  'nicknames': ['Johnny', 'John Boy'],\n",
       "  'company': 'Peaky Blinders',\n",
       "  'episodes': [4, 5, 6]}]"
      ]
     },
     "execution_count": 30,
     "metadata": {},
     "output_type": "execute_result"
    }
   ],
   "source": [
    "list(collection_peaky.find({\"lastname\":\"Shelby\"}))"
   ]
  },
  {
   "cell_type": "code",
   "execution_count": 31,
   "metadata": {
    "scrolled": false
   },
   "outputs": [
    {
     "data": {
      "text/plain": [
       "{'_id': ObjectId('61c61c29cc2c77b1a1de6080'),\n",
       " 'firstname': 'Arthur',\n",
       " 'lastname': 'Shelby',\n",
       " 'position': 'Associate',\n",
       " 'gender': 'Male',\n",
       " 'age': 38,\n",
       " 'description': \"Arthur Shelby Jr. is the eldest of the Shelby siblings and the tough member of Peaky Blinders, the Deputy Vice President Shelby Company Limited. He's also a member of the ICA.\",\n",
       " 'company': 'Peaky Blinders',\n",
       " 'episodes': [1, 4, 6]}"
      ]
     },
     "execution_count": 31,
     "metadata": {},
     "output_type": "execute_result"
    }
   ],
   "source": [
    "cur = collection_peaky.find({\"lastname\":\"Shelby\"}).skip(1)\n",
    "next(cur)"
   ]
  },
  {
   "cell_type": "markdown",
   "metadata": {},
   "source": [
    "On peut trier les résultats récupérés. \n",
    "\n",
    "Pour trier dans l'ordre ascendant et donc récupérer le plus jeune de la famille:"
   ]
  },
  {
   "cell_type": "code",
   "execution_count": 32,
   "metadata": {},
   "outputs": [
    {
     "data": {
      "text/plain": [
       "{'_id': ObjectId('61c61c29cc2c77b1a1de6081'), 'firstname': 'John'}"
      ]
     },
     "execution_count": 32,
     "metadata": {},
     "output_type": "execute_result"
    }
   ],
   "source": [
    "cur = collection_peaky.find({\"lastname\":\"Shelby\"}, {\"firstname\":1}).sort([(\"age\", 1)])\n",
    "next(cur)"
   ]
  },
  {
   "cell_type": "markdown",
   "metadata": {},
   "source": [
    "Pour trier dans l'ordre descendant :\n"
   ]
  },
  {
   "cell_type": "code",
   "execution_count": 33,
   "metadata": {},
   "outputs": [
    {
     "data": {
      "text/plain": [
       "{'_id': ObjectId('61c61c29cc2c77b1a1de6080'), 'firstname': 'Arthur'}"
      ]
     },
     "execution_count": 33,
     "metadata": {},
     "output_type": "execute_result"
    }
   ],
   "source": [
    "cur = collection_peaky.find({\"lastname\":\"Shelby\"}, {\"firstname\":1}).sort([(\"age\", -1)])\n",
    "next(cur)"
   ]
  },
  {
   "cell_type": "markdown",
   "metadata": {},
   "source": [
    "On peut aussi trier selon une clé puis une autre."
   ]
  },
  {
   "cell_type": "code",
   "execution_count": 34,
   "metadata": {},
   "outputs": [
    {
     "data": {
      "text/plain": [
       "{'_id': ObjectId('61c61c29cc2c77b1a1de6080'), 'firstname': 'Arthur'}"
      ]
     },
     "execution_count": 34,
     "metadata": {},
     "output_type": "execute_result"
    }
   ],
   "source": [
    "cur = collection_peaky.find({\"lastname\":\"Shelby\"}, {\"firstname\":1}).sort([(\"age\", -1), (\"firstname\", 1)])\n",
    "next(cur)"
   ]
  },
  {
   "cell_type": "markdown",
   "metadata": {},
   "source": [
    "## Indexation"
   ]
  },
  {
   "cell_type": "markdown",
   "metadata": {},
   "source": [
    "L'indexation permet d'accélérer les performances sur les requêtes. Si aucun index n'est mis en place, MongoDB doit effectuer un scan de tous les documents pour trouver ceux qui sont pertinents. L'index permet de stocker les valeurs d'un champ de façon triée pour limiter le nombre de document à parcourir pour effectuer une requête. \n",
    "\n",
    "Vous pouvez accéder à plus d'informations ici : https://docs.mongodb.com/manual/indexes/\n",
    "\n",
    "### Indexation simple\n",
    "\n",
    "L'indexation simple permet de créer l'index en fonction d'un seul champ. \n",
    "\n",
    "On spécifie alors l'ordre dans lequel l'index est créé et trié. \n",
    "\n",
    "Dans l'ordre croissant, "
   ]
  },
  {
   "cell_type": "code",
   "execution_count": 35,
   "metadata": {},
   "outputs": [
    {
     "data": {
      "text/plain": [
       "'age_1'"
      ]
     },
     "execution_count": 35,
     "metadata": {},
     "output_type": "execute_result"
    }
   ],
   "source": [
    "collection_peaky.create_index([(\"age\", 1)])"
   ]
  },
  {
   "cell_type": "code",
   "execution_count": 36,
   "metadata": {},
   "outputs": [
    {
     "data": {
      "text/plain": [
       "{'_id_': {'v': 2, 'key': [('_id', 1)]}, 'age_1': {'v': 2, 'key': [('age', 1)]}}"
      ]
     },
     "execution_count": 36,
     "metadata": {},
     "output_type": "execute_result"
    }
   ],
   "source": [
    "collection_peaky.index_information()"
   ]
  },
  {
   "cell_type": "markdown",
   "metadata": {},
   "source": [
    "Et dans l'ordre décroissant, "
   ]
  },
  {
   "cell_type": "code",
   "execution_count": 37,
   "metadata": {},
   "outputs": [
    {
     "data": {
      "text/plain": [
       "'age_-1'"
      ]
     },
     "execution_count": 37,
     "metadata": {},
     "output_type": "execute_result"
    }
   ],
   "source": [
    "collection_peaky.create_index([(\"age\", -1)])"
   ]
  },
  {
   "cell_type": "code",
   "execution_count": 38,
   "metadata": {},
   "outputs": [
    {
     "data": {
      "text/plain": [
       "{'_id_': {'v': 2, 'key': [('_id', 1)]},\n",
       " 'age_1': {'v': 2, 'key': [('age', 1)]},\n",
       " 'age_-1': {'v': 2, 'key': [('age', -1)]}}"
      ]
     },
     "execution_count": 38,
     "metadata": {},
     "output_type": "execute_result"
    }
   ],
   "source": [
    "collection_peaky.index_information()"
   ]
  },
  {
   "cell_type": "markdown",
   "metadata": {},
   "source": [
    "Pour supprimer un index en particulier : "
   ]
  },
  {
   "cell_type": "code",
   "execution_count": 39,
   "metadata": {},
   "outputs": [],
   "source": [
    "collection_peaky.drop_index(\"age_1\")"
   ]
  },
  {
   "cell_type": "code",
   "execution_count": 40,
   "metadata": {},
   "outputs": [
    {
     "data": {
      "text/plain": [
       "{'_id_': {'v': 2, 'key': [('_id', 1)]},\n",
       " 'age_-1': {'v': 2, 'key': [('age', -1)]}}"
      ]
     },
     "execution_count": 40,
     "metadata": {},
     "output_type": "execute_result"
    }
   ],
   "source": [
    "collection_peaky.index_information()"
   ]
  },
  {
   "cell_type": "markdown",
   "metadata": {},
   "source": [
    "Pour supprimer tous les index : "
   ]
  },
  {
   "cell_type": "code",
   "execution_count": 41,
   "metadata": {},
   "outputs": [],
   "source": [
    "collection_peaky.drop_indexes()"
   ]
  },
  {
   "cell_type": "code",
   "execution_count": 42,
   "metadata": {},
   "outputs": [
    {
     "data": {
      "text/plain": [
       "{'_id_': {'v': 2, 'key': [('_id', 1)]}}"
      ]
     },
     "execution_count": 42,
     "metadata": {},
     "output_type": "execute_result"
    }
   ],
   "source": [
    "collection_peaky.index_information()"
   ]
  },
  {
   "cell_type": "markdown",
   "metadata": {},
   "source": [
    "Les performances ne sont visibles que pour des collections de taille importante. Mais se ressente très rapidement et sont souvent indispensables. "
   ]
  },
  {
   "cell_type": "markdown",
   "metadata": {},
   "source": [
    "### Indexation composée\n",
    "\n",
    "L'indexation composée permet de créer un index basé sur deux champs différents. L'ordre des champs spécifié dans la création d'un index est important.On peut trier dans l'ordre croissant le premier champ et dans l'ordre décroissant le deuxième champ. \n",
    "\n",
    "Il est très utile quand plusieurs champs sont souvent utilisé conjointement pour effectuer des queries. "
   ]
  },
  {
   "cell_type": "code",
   "execution_count": 43,
   "metadata": {},
   "outputs": [
    {
     "data": {
      "text/plain": [
       "'age_-1_firstname_1'"
      ]
     },
     "execution_count": 43,
     "metadata": {},
     "output_type": "execute_result"
    }
   ],
   "source": [
    "collection_peaky.create_index([(\"age\", -1), (\"firstname\", 1)])"
   ]
  },
  {
   "cell_type": "code",
   "execution_count": 44,
   "metadata": {},
   "outputs": [
    {
     "data": {
      "text/plain": [
       "{'_id_': {'v': 2, 'key': [('_id', 1)]},\n",
       " 'age_-1_firstname_1': {'v': 2, 'key': [('age', -1), ('firstname', 1)]}}"
      ]
     },
     "execution_count": 44,
     "metadata": {},
     "output_type": "execute_result"
    }
   ],
   "source": [
    "collection_peaky.index_information()"
   ]
  },
  {
   "cell_type": "code",
   "execution_count": 45,
   "metadata": {},
   "outputs": [
    {
     "ename": "SyntaxError",
     "evalue": "invalid syntax (1844469871.py, line 1)",
     "output_type": "error",
     "traceback": [
      "\u001b[0;36m  File \u001b[0;32m\"/tmp/ipykernel_32/1844469871.py\"\u001b[0;36m, line \u001b[0;32m1\u001b[0m\n\u001b[0;31m    Indexations spéciales\u001b[0m\n\u001b[0m                ^\u001b[0m\n\u001b[0;31mSyntaxError\u001b[0m\u001b[0;31m:\u001b[0m invalid syntax\n"
     ]
    }
   ],
   "source": [
    "Indexations spéciales"
   ]
  },
  {
   "cell_type": "markdown",
   "metadata": {},
   "source": [
    "\n",
    "### Indexations spéciales\n",
    "\n",
    "Mongo permet plusieurs indexations : \n",
    "\n",
    "- Text : permet de faire de la recherche naturelle de *queries* dans du texte. Cet index peut devenir très rapidement très important et prendre beaucoup de place mémoire. Cet index textuel contient un index par mot contenu dans l'ensemble des documents. Il peut aussi être très lent à créer.\n",
    "- Multiclés : permet de créer un index sur les éléments d'objets stockés dans des listes ou *arrays*.\n",
    "- 2D, 2DSphere, geoHaystack : permet de créer des index sur des données géospatiales.\n",
    "- Hash : permet de stocker les valeurs des champs sous forme de *hash*.\n",
    "\n",
    "Dans ce cours, on se contentera de faire de l'indexation textuelle.\n",
    "\n",
    "Tous ces mécanismes d'indexation permettent d'accélérer les performances des requêtes. Mais ils peuvent avoir des effets négatifs: \n",
    "\n",
    "- Sur l'occupation mémoire : Chaque index doit avoir un minimum de 8 kB et peut prendre beaucoup de place sur le disque et dans la mémoire RAM.\n",
    "- Sur le temps d'exécution : les opérations d'insertion et d'écriture peuvent être longues puisque Mongo doit insérer chaque nouveau document dans l'index en plus de l'insertion dans la collection.\n",
    "\n",
    "Exemple : \n",
    "\n",
    "Pour créer un index textuel sur la description des personnages : \n"
   ]
  },
  {
   "cell_type": "code",
   "execution_count": 46,
   "metadata": {},
   "outputs": [
    {
     "data": {
      "text/plain": [
       "'description_text'"
      ]
     },
     "execution_count": 46,
     "metadata": {},
     "output_type": "execute_result"
    }
   ],
   "source": [
    "collection_peaky.create_index([(\"description\",  \"text\")])"
   ]
  },
  {
   "cell_type": "code",
   "execution_count": 47,
   "metadata": {},
   "outputs": [
    {
     "data": {
      "text/plain": [
       "{'_id_': {'v': 2, 'key': [('_id', 1)]},\n",
       " 'age_-1_firstname_1': {'v': 2, 'key': [('age', -1), ('firstname', 1)]},\n",
       " 'description_text': {'v': 2,\n",
       "  'key': [('_fts', 'text'), ('_ftsx', 1)],\n",
       "  'weights': SON([('description', 1)]),\n",
       "  'default_language': 'english',\n",
       "  'language_override': 'language',\n",
       "  'textIndexVersion': 3}}"
      ]
     },
     "execution_count": 47,
     "metadata": {},
     "output_type": "execute_result"
    }
   ],
   "source": [
    "collection_peaky.index_information()"
   ]
  },
  {
   "cell_type": "markdown",
   "metadata": {},
   "source": [
    "Uniquement après que cet index de texte ait été créé, on peut utiliser la méthode `find()` avec l'argument `$text` pour faire une requête dans le texte.\n"
   ]
  },
  {
   "cell_type": "code",
   "execution_count": 48,
   "metadata": {},
   "outputs": [
    {
     "data": {
      "text/plain": [
       "{'_id': ObjectId('61c719b4a08baa3fa0960cb7'),\n",
       " 'firstname': 'Ada',\n",
       " 'lastname': 'Thorne',\n",
       " 'position': 'HR',\n",
       " 'gender': 'Female',\n",
       " 'age': 28,\n",
       " 'description': \"Ada Thorne is the fourth and only female of the Shelby sibling. She's the Head of Acquisitions of the Shelby Company Limited.\",\n",
       " 'nicknames': ['Ada Shelby'],\n",
       " 'company': 'Peaky Blinders',\n",
       " 'episodes': [1, 2, 6]}"
      ]
     },
     "execution_count": 48,
     "metadata": {},
     "output_type": "execute_result"
    }
   ],
   "source": [
    "cur = collection_peaky.find( { \"$text\": { \"$search\": \"female\" } } )\n",
    "next(cur)"
   ]
  },
  {
   "cell_type": "markdown",
   "metadata": {},
   "source": [
    "    \n",
    "#### Exercice\n",
    "\n",
    "Supprimez tous les index créés et réessayez de faire la même requête. Que se passe-t-il ?\n"
   ]
  },
  {
   "cell_type": "code",
   "execution_count": 49,
   "metadata": {
    "scrolled": true
   },
   "outputs": [],
   "source": [
    "collection_peaky.drop_indexes()"
   ]
  },
  {
   "cell_type": "code",
   "execution_count": 50,
   "metadata": {},
   "outputs": [
    {
     "ename": "OperationFailure",
     "evalue": "text index required for $text query, full error: {'ok': 0.0, 'errmsg': 'text index required for $text query', 'code': 27, 'codeName': 'IndexNotFound'}",
     "output_type": "error",
     "traceback": [
      "\u001b[0;31m---------------------------------------------------------------------------\u001b[0m",
      "\u001b[0;31mOperationFailure\u001b[0m                          Traceback (most recent call last)",
      "\u001b[0;32m/tmp/ipykernel_32/3540160718.py\u001b[0m in \u001b[0;36m<module>\u001b[0;34m\u001b[0m\n\u001b[1;32m      1\u001b[0m \u001b[0mcur\u001b[0m \u001b[0;34m=\u001b[0m \u001b[0mcollection_peaky\u001b[0m\u001b[0;34m.\u001b[0m\u001b[0mfind\u001b[0m\u001b[0;34m(\u001b[0m \u001b[0;34m{\u001b[0m \u001b[0;34m\"$text\"\u001b[0m\u001b[0;34m:\u001b[0m \u001b[0;34m{\u001b[0m \u001b[0;34m\"$search\"\u001b[0m\u001b[0;34m:\u001b[0m \u001b[0;34m\"female\"\u001b[0m \u001b[0;34m}\u001b[0m \u001b[0;34m}\u001b[0m \u001b[0;34m)\u001b[0m\u001b[0;34m\u001b[0m\u001b[0;34m\u001b[0m\u001b[0m\n\u001b[0;32m----> 2\u001b[0;31m \u001b[0mnext\u001b[0m\u001b[0;34m(\u001b[0m\u001b[0mcur\u001b[0m\u001b[0;34m)\u001b[0m\u001b[0;34m\u001b[0m\u001b[0;34m\u001b[0m\u001b[0m\n\u001b[0m",
      "\u001b[0;32m~/.local/share/virtualenvs/code-AFz48Hjb/lib/python3.8/site-packages/pymongo/cursor.py\u001b[0m in \u001b[0;36mnext\u001b[0;34m(self)\u001b[0m\n\u001b[1;32m   1205\u001b[0m         \u001b[0;32mif\u001b[0m \u001b[0mself\u001b[0m\u001b[0;34m.\u001b[0m\u001b[0m__empty\u001b[0m\u001b[0;34m:\u001b[0m\u001b[0;34m\u001b[0m\u001b[0;34m\u001b[0m\u001b[0m\n\u001b[1;32m   1206\u001b[0m             \u001b[0;32mraise\u001b[0m \u001b[0mStopIteration\u001b[0m\u001b[0;34m\u001b[0m\u001b[0;34m\u001b[0m\u001b[0m\n\u001b[0;32m-> 1207\u001b[0;31m         \u001b[0;32mif\u001b[0m \u001b[0mlen\u001b[0m\u001b[0;34m(\u001b[0m\u001b[0mself\u001b[0m\u001b[0;34m.\u001b[0m\u001b[0m__data\u001b[0m\u001b[0;34m)\u001b[0m \u001b[0;32mor\u001b[0m \u001b[0mself\u001b[0m\u001b[0;34m.\u001b[0m\u001b[0m_refresh\u001b[0m\u001b[0;34m(\u001b[0m\u001b[0;34m)\u001b[0m\u001b[0;34m:\u001b[0m\u001b[0;34m\u001b[0m\u001b[0;34m\u001b[0m\u001b[0m\n\u001b[0m\u001b[1;32m   1208\u001b[0m             \u001b[0;32mif\u001b[0m \u001b[0mself\u001b[0m\u001b[0;34m.\u001b[0m\u001b[0m__manipulate\u001b[0m\u001b[0;34m:\u001b[0m\u001b[0;34m\u001b[0m\u001b[0;34m\u001b[0m\u001b[0m\n\u001b[1;32m   1209\u001b[0m                 \u001b[0m_db\u001b[0m \u001b[0;34m=\u001b[0m \u001b[0mself\u001b[0m\u001b[0;34m.\u001b[0m\u001b[0m__collection\u001b[0m\u001b[0;34m.\u001b[0m\u001b[0mdatabase\u001b[0m\u001b[0;34m\u001b[0m\u001b[0;34m\u001b[0m\u001b[0m\n",
      "\u001b[0;32m~/.local/share/virtualenvs/code-AFz48Hjb/lib/python3.8/site-packages/pymongo/cursor.py\u001b[0m in \u001b[0;36m_refresh\u001b[0;34m(self)\u001b[0m\n\u001b[1;32m   1122\u001b[0m                                   \u001b[0mself\u001b[0m\u001b[0;34m.\u001b[0m\u001b[0m__collection\u001b[0m\u001b[0;34m.\u001b[0m\u001b[0mdatabase\u001b[0m\u001b[0;34m.\u001b[0m\u001b[0mclient\u001b[0m\u001b[0;34m,\u001b[0m\u001b[0;34m\u001b[0m\u001b[0;34m\u001b[0m\u001b[0m\n\u001b[1;32m   1123\u001b[0m                                   self.__allow_disk_use)\n\u001b[0;32m-> 1124\u001b[0;31m             \u001b[0mself\u001b[0m\u001b[0;34m.\u001b[0m\u001b[0m__send_message\u001b[0m\u001b[0;34m(\u001b[0m\u001b[0mq\u001b[0m\u001b[0;34m)\u001b[0m\u001b[0;34m\u001b[0m\u001b[0;34m\u001b[0m\u001b[0m\n\u001b[0m\u001b[1;32m   1125\u001b[0m         \u001b[0;32melif\u001b[0m \u001b[0mself\u001b[0m\u001b[0;34m.\u001b[0m\u001b[0m__id\u001b[0m\u001b[0;34m:\u001b[0m  \u001b[0;31m# Get More\u001b[0m\u001b[0;34m\u001b[0m\u001b[0;34m\u001b[0m\u001b[0m\n\u001b[1;32m   1126\u001b[0m             \u001b[0;32mif\u001b[0m \u001b[0mself\u001b[0m\u001b[0;34m.\u001b[0m\u001b[0m__limit\u001b[0m\u001b[0;34m:\u001b[0m\u001b[0;34m\u001b[0m\u001b[0;34m\u001b[0m\u001b[0m\n",
      "\u001b[0;32m~/.local/share/virtualenvs/code-AFz48Hjb/lib/python3.8/site-packages/pymongo/cursor.py\u001b[0m in \u001b[0;36m__send_message\u001b[0;34m(self, operation)\u001b[0m\n\u001b[1;32m    997\u001b[0m \u001b[0;34m\u001b[0m\u001b[0m\n\u001b[1;32m    998\u001b[0m         \u001b[0;32mtry\u001b[0m\u001b[0;34m:\u001b[0m\u001b[0;34m\u001b[0m\u001b[0;34m\u001b[0m\u001b[0m\n\u001b[0;32m--> 999\u001b[0;31m             response = client._run_operation_with_response(\n\u001b[0m\u001b[1;32m   1000\u001b[0m                 \u001b[0moperation\u001b[0m\u001b[0;34m,\u001b[0m \u001b[0mself\u001b[0m\u001b[0;34m.\u001b[0m\u001b[0m_unpack_response\u001b[0m\u001b[0;34m,\u001b[0m \u001b[0mexhaust\u001b[0m\u001b[0;34m=\u001b[0m\u001b[0mself\u001b[0m\u001b[0;34m.\u001b[0m\u001b[0m__exhaust\u001b[0m\u001b[0;34m,\u001b[0m\u001b[0;34m\u001b[0m\u001b[0;34m\u001b[0m\u001b[0m\n\u001b[1;32m   1001\u001b[0m                 address=self.__address)\n",
      "\u001b[0;32m~/.local/share/virtualenvs/code-AFz48Hjb/lib/python3.8/site-packages/pymongo/mongo_client.py\u001b[0m in \u001b[0;36m_run_operation_with_response\u001b[0;34m(self, operation, unpack_res, exhaust, address)\u001b[0m\n\u001b[1;32m   1366\u001b[0m                 unpack_res)\n\u001b[1;32m   1367\u001b[0m \u001b[0;34m\u001b[0m\u001b[0m\n\u001b[0;32m-> 1368\u001b[0;31m         return self._retryable_read(\n\u001b[0m\u001b[1;32m   1369\u001b[0m             \u001b[0m_cmd\u001b[0m\u001b[0;34m,\u001b[0m \u001b[0moperation\u001b[0m\u001b[0;34m.\u001b[0m\u001b[0mread_preference\u001b[0m\u001b[0;34m,\u001b[0m \u001b[0moperation\u001b[0m\u001b[0;34m.\u001b[0m\u001b[0msession\u001b[0m\u001b[0;34m,\u001b[0m\u001b[0;34m\u001b[0m\u001b[0;34m\u001b[0m\u001b[0m\n\u001b[1;32m   1370\u001b[0m             \u001b[0maddress\u001b[0m\u001b[0;34m=\u001b[0m\u001b[0maddress\u001b[0m\u001b[0;34m,\u001b[0m\u001b[0;34m\u001b[0m\u001b[0;34m\u001b[0m\u001b[0m\n",
      "\u001b[0;32m~/.local/share/virtualenvs/code-AFz48Hjb/lib/python3.8/site-packages/pymongo/mongo_client.py\u001b[0m in \u001b[0;36m_retryable_read\u001b[0;34m(self, func, read_pref, session, address, retryable, exhaust)\u001b[0m\n\u001b[1;32m   1469\u001b[0m                         \u001b[0;31m# not support retryable reads, raise the last error.\u001b[0m\u001b[0;34m\u001b[0m\u001b[0;34m\u001b[0m\u001b[0;34m\u001b[0m\u001b[0m\n\u001b[1;32m   1470\u001b[0m                         \u001b[0;32mraise\u001b[0m \u001b[0mlast_error\u001b[0m\u001b[0;34m\u001b[0m\u001b[0;34m\u001b[0m\u001b[0m\n\u001b[0;32m-> 1471\u001b[0;31m                     \u001b[0;32mreturn\u001b[0m \u001b[0mfunc\u001b[0m\u001b[0;34m(\u001b[0m\u001b[0msession\u001b[0m\u001b[0;34m,\u001b[0m \u001b[0mserver\u001b[0m\u001b[0;34m,\u001b[0m \u001b[0msock_info\u001b[0m\u001b[0;34m,\u001b[0m \u001b[0mslave_ok\u001b[0m\u001b[0;34m)\u001b[0m\u001b[0;34m\u001b[0m\u001b[0;34m\u001b[0m\u001b[0m\n\u001b[0m\u001b[1;32m   1472\u001b[0m             \u001b[0;32mexcept\u001b[0m \u001b[0mServerSelectionTimeoutError\u001b[0m\u001b[0;34m:\u001b[0m\u001b[0;34m\u001b[0m\u001b[0;34m\u001b[0m\u001b[0m\n\u001b[1;32m   1473\u001b[0m                 \u001b[0;32mif\u001b[0m \u001b[0mretrying\u001b[0m\u001b[0;34m:\u001b[0m\u001b[0;34m\u001b[0m\u001b[0;34m\u001b[0m\u001b[0m\n",
      "\u001b[0;32m~/.local/share/virtualenvs/code-AFz48Hjb/lib/python3.8/site-packages/pymongo/mongo_client.py\u001b[0m in \u001b[0;36m_cmd\u001b[0;34m(session, server, sock_info, slave_ok)\u001b[0m\n\u001b[1;32m   1358\u001b[0m \u001b[0;34m\u001b[0m\u001b[0m\n\u001b[1;32m   1359\u001b[0m         \u001b[0;32mdef\u001b[0m \u001b[0m_cmd\u001b[0m\u001b[0;34m(\u001b[0m\u001b[0msession\u001b[0m\u001b[0;34m,\u001b[0m \u001b[0mserver\u001b[0m\u001b[0;34m,\u001b[0m \u001b[0msock_info\u001b[0m\u001b[0;34m,\u001b[0m \u001b[0mslave_ok\u001b[0m\u001b[0;34m)\u001b[0m\u001b[0;34m:\u001b[0m\u001b[0;34m\u001b[0m\u001b[0;34m\u001b[0m\u001b[0m\n\u001b[0;32m-> 1360\u001b[0;31m             return server.run_operation_with_response(\n\u001b[0m\u001b[1;32m   1361\u001b[0m                 \u001b[0msock_info\u001b[0m\u001b[0;34m,\u001b[0m\u001b[0;34m\u001b[0m\u001b[0;34m\u001b[0m\u001b[0m\n\u001b[1;32m   1362\u001b[0m                 \u001b[0moperation\u001b[0m\u001b[0;34m,\u001b[0m\u001b[0;34m\u001b[0m\u001b[0;34m\u001b[0m\u001b[0m\n",
      "\u001b[0;32m~/.local/share/virtualenvs/code-AFz48Hjb/lib/python3.8/site-packages/pymongo/server.py\u001b[0m in \u001b[0;36mrun_operation_with_response\u001b[0;34m(self, sock_info, operation, set_slave_okay, listeners, exhaust, unpack_res)\u001b[0m\n\u001b[1;32m    134\u001b[0m                 operation.client._process_response(\n\u001b[1;32m    135\u001b[0m                     first, operation.session)\n\u001b[0;32m--> 136\u001b[0;31m                 _check_command_response(\n\u001b[0m\u001b[1;32m    137\u001b[0m                     first, sock_info.max_wire_version)\n\u001b[1;32m    138\u001b[0m         \u001b[0;32mexcept\u001b[0m \u001b[0mException\u001b[0m \u001b[0;32mas\u001b[0m \u001b[0mexc\u001b[0m\u001b[0;34m:\u001b[0m\u001b[0;34m\u001b[0m\u001b[0;34m\u001b[0m\u001b[0m\n",
      "\u001b[0;32m~/.local/share/virtualenvs/code-AFz48Hjb/lib/python3.8/site-packages/pymongo/helpers.py\u001b[0m in \u001b[0;36m_check_command_response\u001b[0;34m(response, max_wire_version, msg, allowable_errors, parse_write_concern_error)\u001b[0m\n\u001b[1;32m    165\u001b[0m \u001b[0;34m\u001b[0m\u001b[0m\n\u001b[1;32m    166\u001b[0m             \u001b[0mmsg\u001b[0m \u001b[0;34m=\u001b[0m \u001b[0mmsg\u001b[0m \u001b[0;32mor\u001b[0m \u001b[0;34m\"%s\"\u001b[0m\u001b[0;34m\u001b[0m\u001b[0;34m\u001b[0m\u001b[0m\n\u001b[0;32m--> 167\u001b[0;31m             raise OperationFailure(msg % errmsg, code, response,\n\u001b[0m\u001b[1;32m    168\u001b[0m                                    max_wire_version)\n\u001b[1;32m    169\u001b[0m \u001b[0;34m\u001b[0m\u001b[0m\n",
      "\u001b[0;31mOperationFailure\u001b[0m: text index required for $text query, full error: {'ok': 0.0, 'errmsg': 'text index required for $text query', 'code': 27, 'codeName': 'IndexNotFound'}"
     ]
    }
   ],
   "source": [
    "cur = collection_peaky.find( { \"$text\": { \"$search\": \"female\" } } )\n",
    "next(cur)"
   ]
  },
  {
   "cell_type": "markdown",
   "metadata": {},
   "source": [
    "## Mettre à jour\n",
    "\n",
    "La mise à jour des documents et une opération très courante dans les bases de données. MongoDB implémente trois fonctions différentes permettant de mettre à jour un ou plusieurs documents à la fois.\n",
    "\n",
    "- Mettre à jour un seul document : \n",
    "\n",
    "```\n",
    "db.<YOUR_COLLECTION_NAME>.updateOne(<filter>, <update>, <options>)\n",
    "```\n",
    "\n",
    "- Le champ `filter` est une requête comme on vient de voir précédemment ; \n",
    "- Le champ `update` permet de préciser la requête de mise à jour ;\n",
    "- Le champ `option` permet de donner des arguments à cette opération.\n",
    "\n",
    " Cette fonction va mettre à jour le premier élément renvoyé par la requête `filter`. \n",
    " \n",
    " Par exemple : \n",
    " \n"
   ]
  },
  {
   "cell_type": "code",
   "execution_count": 51,
   "metadata": {},
   "outputs": [
    {
     "data": {
      "text/plain": [
       "<pymongo.results.UpdateResult at 0x7ff610314340>"
      ]
     },
     "execution_count": 51,
     "metadata": {},
     "output_type": "execute_result"
    }
   ],
   "source": [
    "result = collection_peaky.update_one({\"firstname\":\"Thomas\"}, {\"$set\":{\"maincharacter\":True}})\n",
    "result"
   ]
  },
  {
   "cell_type": "code",
   "execution_count": 52,
   "metadata": {},
   "outputs": [
    {
     "data": {
      "text/plain": [
       "{'_id': ObjectId('61c61c29cc2c77b1a1de607f'),\n",
       " 'firstname': 'Thomas',\n",
       " 'lastname': 'Shelby',\n",
       " 'position': 'CEO',\n",
       " 'gender': 'Male',\n",
       " 'age': 35,\n",
       " 'description': \"Thomas 'Tommy' Michael Shelby M.P. OBE, is the leader of the Birmingham criminal gang Peaky Blinders and the patriarch of the Shelby Family. His experiences during and after the First World War have left him disillusioned and determined to move his family up in the world.\",\n",
       " 'nicknames': ['Tom', 'Tommy', 'Thomas'],\n",
       " 'company': 'Peaky Blinders',\n",
       " 'episodes': [1, 2, 4, 5, 6],\n",
       " 'maincharacter': True}"
      ]
     },
     "execution_count": 52,
     "metadata": {},
     "output_type": "execute_result"
    }
   ],
   "source": [
    "cur = collection_peaky.find_one({\"firstname\":\"Thomas\"})\n",
    "cur"
   ]
  },
  {
   "cell_type": "markdown",
   "metadata": {},
   "source": [
    "Ici le champ update utilise le selecteur `$set` qui permet de définir les couples clé:valeurs à mettre à jour.\n",
    "\n",
    "- Mettre à jour une liste de documents : \n",
    "\n",
    "```\n",
    "db.<YOUR_COLLECTION_NAME>.update_many(<filter>, <update>, <options>)\n",
    "```\n",
    "\n",
    "Cette fonction va mettre à jour tous les documents concernés par la requête `filter`.\n",
    "Dans l'exemple ci-dessous nous allons mettre à jour tous les éléments correspondant à la family Shelby.\n"
   ]
  },
  {
   "cell_type": "code",
   "execution_count": 53,
   "metadata": {},
   "outputs": [
    {
     "data": {
      "text/plain": [
       "<pymongo.results.UpdateResult at 0x7ff610305140>"
      ]
     },
     "execution_count": 53,
     "metadata": {},
     "output_type": "execute_result"
    }
   ],
   "source": [
    "result = collection_peaky.update_many({\"lastname\":\"Shelby\"}, {\"$set\":{\"shelbyFamily\":True}})\n",
    "result"
   ]
  },
  {
   "cell_type": "code",
   "execution_count": 54,
   "metadata": {},
   "outputs": [
    {
     "data": {
      "text/plain": [
       "[{'_id': ObjectId('61c61c29cc2c77b1a1de607f'),\n",
       "  'firstname': 'Thomas',\n",
       "  'lastname': 'Shelby',\n",
       "  'position': 'CEO',\n",
       "  'gender': 'Male',\n",
       "  'age': 35,\n",
       "  'description': \"Thomas 'Tommy' Michael Shelby M.P. OBE, is the leader of the Birmingham criminal gang Peaky Blinders and the patriarch of the Shelby Family. His experiences during and after the First World War have left him disillusioned and determined to move his family up in the world.\",\n",
       "  'nicknames': ['Tom', 'Tommy', 'Thomas'],\n",
       "  'company': 'Peaky Blinders',\n",
       "  'episodes': [1, 2, 4, 5, 6],\n",
       "  'maincharacter': True,\n",
       "  'shelbyFamily': True},\n",
       " {'_id': ObjectId('61c61c29cc2c77b1a1de6080'),\n",
       "  'firstname': 'Arthur',\n",
       "  'lastname': 'Shelby',\n",
       "  'position': 'Associate',\n",
       "  'gender': 'Male',\n",
       "  'age': 38,\n",
       "  'description': \"Arthur Shelby Jr. is the eldest of the Shelby siblings and the tough member of Peaky Blinders, the Deputy Vice President Shelby Company Limited. He's also a member of the ICA.\",\n",
       "  'company': 'Peaky Blinders',\n",
       "  'episodes': [1, 4, 6],\n",
       "  'shelbyFamily': True},\n",
       " {'_id': ObjectId('61c61c29cc2c77b1a1de6081'),\n",
       "  'firstname': 'John',\n",
       "  'lastname': 'Shelby',\n",
       "  'position': 'Associate',\n",
       "  'gender': 'Male',\n",
       "  'age': 30,\n",
       "  'description': 'John Michael Shelby, also called Johnny or John Boy, was the third of Shelby siblings and a member of the Peaky Blinders.',\n",
       "  'nicknames': ['Johnny', 'John Boy'],\n",
       "  'company': 'Peaky Blinders',\n",
       "  'episodes': [4, 5, 6],\n",
       "  'shelbyFamily': True},\n",
       " {'_id': ObjectId('61c719b4a08baa3fa0960cb3'),\n",
       "  'firstname': 'Thomas',\n",
       "  'lastname': 'Shelby',\n",
       "  'position': 'CEO',\n",
       "  'gender': 'Male',\n",
       "  'age': 35,\n",
       "  'description': \"Thomas 'Tommy' Michael Shelby M.P. OBE, is the leader of the Birmingham criminal gang Peaky Blinders and the patriarch of the Shelby Family. His experiences during and after the First World War have left him disillusioned and determined to move his family up in the world.\",\n",
       "  'nicknames': ['Tom', 'Tommy', 'Thomas'],\n",
       "  'company': 'Peaky Blinders',\n",
       "  'episodes': [1, 2, 4, 5, 6],\n",
       "  'shelbyFamily': True},\n",
       " {'_id': ObjectId('61c719b4a08baa3fa0960cb4'),\n",
       "  'firstname': 'Thomas',\n",
       "  'lastname': 'Shelby',\n",
       "  'position': 'CEO',\n",
       "  'gender': 'Male',\n",
       "  'age': 35,\n",
       "  'description': \"Thomas 'Tommy' Michael Shelby M.P. OBE, is the leader of the Birmingham criminal gang Peaky Blinders and the patriarch of the Shelby Family. His experiences during and after the First World War have left him disillusioned and determined to move his family up in the world.\",\n",
       "  'nicknames': ['Tom', 'Tommy', 'Thomas'],\n",
       "  'company': 'Peaky Blinders',\n",
       "  'episodes': [1, 2, 4, 5, 6],\n",
       "  'shelbyFamily': True},\n",
       " {'_id': ObjectId('61c719b4a08baa3fa0960cb5'),\n",
       "  'firstname': 'Arthur',\n",
       "  'lastname': 'Shelby',\n",
       "  'position': 'Associate',\n",
       "  'gender': 'Male',\n",
       "  'age': 38,\n",
       "  'description': \"Arthur Shelby Jr. is the eldest of the Shelby siblings and the tough member of Peaky Blinders, the Deputy Vice President Shelby Company Limited. He's also a member of the ICA.\",\n",
       "  'company': 'Peaky Blinders',\n",
       "  'episodes': [1, 4, 6],\n",
       "  'shelbyFamily': True},\n",
       " {'_id': ObjectId('61c719b4a08baa3fa0960cb6'),\n",
       "  'firstname': 'John',\n",
       "  'lastname': 'Shelby',\n",
       "  'position': 'Associate',\n",
       "  'gender': 'Male',\n",
       "  'age': 30,\n",
       "  'description': 'John Michael Shelby, also called Johnny or John Boy, was the third of Shelby siblings and a member of the Peaky Blinders.',\n",
       "  'nicknames': ['Johnny', 'John Boy'],\n",
       "  'company': 'Peaky Blinders',\n",
       "  'episodes': [4, 5, 6],\n",
       "  'shelbyFamily': True}]"
      ]
     },
     "execution_count": 54,
     "metadata": {},
     "output_type": "execute_result"
    }
   ],
   "source": [
    "cur = collection_peaky.find({\"lastname\":\"Shelby\"})\n",
    "list(cur)"
   ]
  },
  {
   "cell_type": "markdown",
   "metadata": {},
   "source": [
    "\n",
    "L'option `upsert` peut être très intéressante. Elle permet d'ajouter un document si il n'existe pas déjà directement depuis la fonction `update()`. Par défaut, cette option est `false`. \n",
    " \n",
    " \n",
    "```\n",
    "db.<YOUR_COLLECTION_NAME>.update(<filter>, <update>, {upsert: true})\n",
    "```\n",
    "    "
   ]
  },
  {
   "cell_type": "markdown",
   "metadata": {},
   "source": [
    "## Supprimer \n",
    "\n",
    "Pour supprimer des documents, comme pour la mise à jour, il existe deux méthodes : \n",
    "\n",
    "- `deleteMany({ <field1>: <value1>, ... }`\n",
    "- `deleteOne({ <field1>: <value1>, ... }`\n",
    "\n",
    "Pour supprimer tous les documents possédant une condition : \n"
   ]
  },
  {
   "cell_type": "code",
   "execution_count": 55,
   "metadata": {},
   "outputs": [
    {
     "data": {
      "text/plain": [
       "<pymongo.results.DeleteResult at 0x7ff61031d880>"
      ]
     },
     "execution_count": 55,
     "metadata": {},
     "output_type": "execute_result"
    }
   ],
   "source": [
    "result = collection_peaky.delete_many({\"lastname\": \"Gray\"})\n",
    "result"
   ]
  },
  {
   "cell_type": "code",
   "execution_count": 56,
   "metadata": {},
   "outputs": [
    {
     "ename": "StopIteration",
     "evalue": "",
     "output_type": "error",
     "traceback": [
      "\u001b[0;31m---------------------------------------------------------------------------\u001b[0m",
      "\u001b[0;31mStopIteration\u001b[0m                             Traceback (most recent call last)",
      "\u001b[0;32m/tmp/ipykernel_32/1235449371.py\u001b[0m in \u001b[0;36m<module>\u001b[0;34m\u001b[0m\n\u001b[1;32m      1\u001b[0m \u001b[0mcur\u001b[0m \u001b[0;34m=\u001b[0m \u001b[0mcollection_peaky\u001b[0m\u001b[0;34m.\u001b[0m\u001b[0mfind\u001b[0m\u001b[0;34m(\u001b[0m\u001b[0;34m{\u001b[0m\u001b[0;34m\"lastname\"\u001b[0m\u001b[0;34m:\u001b[0m \u001b[0;34m\"Gray\"\u001b[0m\u001b[0;34m}\u001b[0m\u001b[0;34m)\u001b[0m\u001b[0;34m\u001b[0m\u001b[0;34m\u001b[0m\u001b[0m\n\u001b[0;32m----> 2\u001b[0;31m \u001b[0mnext\u001b[0m\u001b[0;34m(\u001b[0m\u001b[0mcur\u001b[0m\u001b[0;34m)\u001b[0m\u001b[0;34m\u001b[0m\u001b[0;34m\u001b[0m\u001b[0m\n\u001b[0m",
      "\u001b[0;32m~/.local/share/virtualenvs/code-AFz48Hjb/lib/python3.8/site-packages/pymongo/cursor.py\u001b[0m in \u001b[0;36mnext\u001b[0;34m(self)\u001b[0m\n\u001b[1;32m   1213\u001b[0m                 \u001b[0;32mreturn\u001b[0m \u001b[0mself\u001b[0m\u001b[0;34m.\u001b[0m\u001b[0m__data\u001b[0m\u001b[0;34m.\u001b[0m\u001b[0mpopleft\u001b[0m\u001b[0;34m(\u001b[0m\u001b[0;34m)\u001b[0m\u001b[0;34m\u001b[0m\u001b[0;34m\u001b[0m\u001b[0m\n\u001b[1;32m   1214\u001b[0m         \u001b[0;32melse\u001b[0m\u001b[0;34m:\u001b[0m\u001b[0;34m\u001b[0m\u001b[0;34m\u001b[0m\u001b[0m\n\u001b[0;32m-> 1215\u001b[0;31m             \u001b[0;32mraise\u001b[0m \u001b[0mStopIteration\u001b[0m\u001b[0;34m\u001b[0m\u001b[0;34m\u001b[0m\u001b[0m\n\u001b[0m\u001b[1;32m   1216\u001b[0m \u001b[0;34m\u001b[0m\u001b[0m\n\u001b[1;32m   1217\u001b[0m     \u001b[0m__next__\u001b[0m \u001b[0;34m=\u001b[0m \u001b[0mnext\u001b[0m\u001b[0;34m\u001b[0m\u001b[0;34m\u001b[0m\u001b[0m\n",
      "\u001b[0;31mStopIteration\u001b[0m: "
     ]
    }
   ],
   "source": [
    "cur = collection_peaky.find({\"lastname\": \"Gray\"})\n",
    "next(cur)"
   ]
  },
  {
   "cell_type": "markdown",
   "metadata": {},
   "source": [
    "Plus aucun document ne possède ces propriétés.\n",
    "\n",
    "Pour supprimer un seul document (ou le premier si la condition n'est pas assez restrictive) :"
   ]
  },
  {
   "cell_type": "code",
   "execution_count": 57,
   "metadata": {
    "scrolled": true
   },
   "outputs": [
    {
     "data": {
      "text/plain": [
       "<pymongo.results.DeleteResult at 0x7ff610306600>"
      ]
     },
     "execution_count": 57,
     "metadata": {},
     "output_type": "execute_result"
    }
   ],
   "source": [
    "result = collection_peaky.delete_one({\"firstname\": \"Arthur\"})\n",
    "result"
   ]
  },
  {
   "cell_type": "code",
   "execution_count": 58,
   "metadata": {
    "scrolled": true
   },
   "outputs": [
    {
     "data": {
      "text/plain": [
       "{'_id': ObjectId('61c719b4a08baa3fa0960cb5'),\n",
       " 'firstname': 'Arthur',\n",
       " 'lastname': 'Shelby',\n",
       " 'position': 'Associate',\n",
       " 'gender': 'Male',\n",
       " 'age': 38,\n",
       " 'description': \"Arthur Shelby Jr. is the eldest of the Shelby siblings and the tough member of Peaky Blinders, the Deputy Vice President Shelby Company Limited. He's also a member of the ICA.\",\n",
       " 'company': 'Peaky Blinders',\n",
       " 'episodes': [1, 4, 6],\n",
       " 'shelbyFamily': True}"
      ]
     },
     "execution_count": 58,
     "metadata": {},
     "output_type": "execute_result"
    }
   ],
   "source": [
    "cur = collection_peaky.find({\"firstname\": \"Arthur\"})\n",
    "next(cur)"
   ]
  },
  {
   "cell_type": "markdown",
   "metadata": {},
   "source": [
    "Pour supprimer tous les documents de la collection: \n"
   ]
  },
  {
   "cell_type": "code",
   "execution_count": 59,
   "metadata": {},
   "outputs": [
    {
     "data": {
      "text/plain": [
       "<pymongo.results.DeleteResult at 0x7ff610299ec0>"
      ]
     },
     "execution_count": 59,
     "metadata": {},
     "output_type": "execute_result"
    }
   ],
   "source": [
    "result = collection_peaky.delete_many({})\n",
    "result"
   ]
  },
  {
   "cell_type": "code",
   "execution_count": 60,
   "metadata": {},
   "outputs": [
    {
     "ename": "StopIteration",
     "evalue": "",
     "output_type": "error",
     "traceback": [
      "\u001b[0;31m---------------------------------------------------------------------------\u001b[0m",
      "\u001b[0;31mStopIteration\u001b[0m                             Traceback (most recent call last)",
      "\u001b[0;32m/tmp/ipykernel_32/941992572.py\u001b[0m in \u001b[0;36m<module>\u001b[0;34m\u001b[0m\n\u001b[1;32m      1\u001b[0m \u001b[0mcur\u001b[0m \u001b[0;34m=\u001b[0m \u001b[0mcollection_peaky\u001b[0m\u001b[0;34m.\u001b[0m\u001b[0mfind\u001b[0m\u001b[0;34m(\u001b[0m\u001b[0;34m)\u001b[0m\u001b[0;34m\u001b[0m\u001b[0;34m\u001b[0m\u001b[0m\n\u001b[0;32m----> 2\u001b[0;31m \u001b[0mnext\u001b[0m\u001b[0;34m(\u001b[0m\u001b[0mcur\u001b[0m\u001b[0;34m)\u001b[0m\u001b[0;34m\u001b[0m\u001b[0;34m\u001b[0m\u001b[0m\n\u001b[0m",
      "\u001b[0;32m~/.local/share/virtualenvs/code-AFz48Hjb/lib/python3.8/site-packages/pymongo/cursor.py\u001b[0m in \u001b[0;36mnext\u001b[0;34m(self)\u001b[0m\n\u001b[1;32m   1213\u001b[0m                 \u001b[0;32mreturn\u001b[0m \u001b[0mself\u001b[0m\u001b[0;34m.\u001b[0m\u001b[0m__data\u001b[0m\u001b[0;34m.\u001b[0m\u001b[0mpopleft\u001b[0m\u001b[0;34m(\u001b[0m\u001b[0;34m)\u001b[0m\u001b[0;34m\u001b[0m\u001b[0;34m\u001b[0m\u001b[0m\n\u001b[1;32m   1214\u001b[0m         \u001b[0;32melse\u001b[0m\u001b[0;34m:\u001b[0m\u001b[0;34m\u001b[0m\u001b[0;34m\u001b[0m\u001b[0m\n\u001b[0;32m-> 1215\u001b[0;31m             \u001b[0;32mraise\u001b[0m \u001b[0mStopIteration\u001b[0m\u001b[0;34m\u001b[0m\u001b[0;34m\u001b[0m\u001b[0m\n\u001b[0m\u001b[1;32m   1216\u001b[0m \u001b[0;34m\u001b[0m\u001b[0m\n\u001b[1;32m   1217\u001b[0m     \u001b[0m__next__\u001b[0m \u001b[0;34m=\u001b[0m \u001b[0mnext\u001b[0m\u001b[0;34m\u001b[0m\u001b[0;34m\u001b[0m\u001b[0m\n",
      "\u001b[0;31mStopIteration\u001b[0m: "
     ]
    }
   ],
   "source": [
    "cur = collection_peaky.find()\n",
    "next(cur)"
   ]
  },
  {
   "cell_type": "markdown",
   "metadata": {},
   "source": [
    "Plus aucun document n'est présent dans la collection\n",
    "\n",
    "Quelques choses à savoir : \n",
    "\n",
    "- La méthode `deleteMany()` applique une fonction à tous les documents. Toutes les fonctions en Mongo sont atomiques ce qui veut dire qu'elles s'appliquent à chaque document indépendamment les uns des autres.\n",
    "- La méthode `delete()` ne supprime pas les index, même si on supprime tous les documents de la collection.\n"
   ]
  },
  {
   "cell_type": "markdown",
   "metadata": {},
   "source": [
    "### Exercice \n",
    "\n",
    "Maintenant que la collection est vide, réintégrez les données précédemment supprimés. "
   ]
  },
  {
   "cell_type": "code",
   "execution_count": 61,
   "metadata": {},
   "outputs": [
    {
     "data": {
      "text/plain": [
       "<pymongo.results.InsertManyResult at 0x7ff6103140c0>"
      ]
     },
     "execution_count": 61,
     "metadata": {},
     "output_type": "execute_result"
    }
   ],
   "source": [
    "collection_peaky.insert_many(DOCUMENTS)"
   ]
  },
  {
   "cell_type": "markdown",
   "metadata": {},
   "source": [
    "## Aggregation\n",
    "\n",
    "\n",
    "Une aggrégation permet de faire des opérations complexes sur des groupes de documents directement dans la base. Elle se charge de grouper les documents entre eux suivant la requête et se charge d'effectuer une opération sur l'ensemble des documents de chacun des groupes. On peut retrouver les mêmes opérations en SQL avec les arguments `GROUP BY`.\n",
    "\n",
    "La syntaxe est très similaire à toutes les autres fonctions Mongo mais la requête va être plus complexe. \n",
    "\n",
    "```\n",
    "db.<YOUR_COLLECTION_NAME>.aggregate(AGGREGATE_OPERATION)\n",
    "```\n",
    "\n",
    "On peut vouloir récupérer le nombre de personnages de chaque famille présente dans la série : \n"
   ]
  },
  {
   "cell_type": "code",
   "execution_count": 62,
   "metadata": {},
   "outputs": [
    {
     "data": {
      "text/plain": [
       "[{'_id': 'Shelby', 'charactereNumberByFamily': 3},\n",
       " {'_id': 'Thorne', 'charactereNumberByFamily': 1},\n",
       " {'_id': 'Gray', 'charactereNumberByFamily': 2}]"
      ]
     },
     "execution_count": 62,
     "metadata": {},
     "output_type": "execute_result"
    }
   ],
   "source": [
    "cur = collection_peaky.aggregate([{\"$group\" : {\"_id\" : \"$lastname\", \"charactereNumberByFamily\" : {\"$sum\" : 1}}}])\n",
    "list(cur)"
   ]
  },
  {
   "cell_type": "markdown",
   "metadata": {},
   "source": [
    "\n",
    "Vous avez accès à toutes les opérations mathématiques dont vous avez besoin : \n",
    "\n",
    "- `$sum` : fait la somme de \n",
    "- `$avg` : fait la moyenne \n",
    "- `$min` : récupère la valeur minimale \n",
    "- `$max` : récupère la valeur maximale \n",
    "- `$first` : récupère le premier élément\n",
    "- `$last` : récupère le dernier élément\n"
   ]
  },
  {
   "cell_type": "code",
   "execution_count": 63,
   "metadata": {},
   "outputs": [
    {
     "data": {
      "text/plain": [
       "[{'_id': 'Shelby', 'averageAgeByFamily': 34.333333333333336},\n",
       " {'_id': 'Thorne', 'averageAgeByFamily': 28.0},\n",
       " {'_id': 'Gray', 'averageAgeByFamily': 33.0}]"
      ]
     },
     "execution_count": 63,
     "metadata": {},
     "output_type": "execute_result"
    }
   ],
   "source": [
    "cur = collection_peaky.aggregate([{\"$group\" : {\"_id\" : \"$lastname\", \"averageAgeByFamily\" : {\"$avg\" : \"$age\"}}}])\n",
    "list(cur)\n"
   ]
  },
  {
   "cell_type": "code",
   "execution_count": 64,
   "metadata": {},
   "outputs": [
    {
     "data": {
      "text/plain": [
       "[{'_id': 'Shelby', 'minAgeByFamily': 30},\n",
       " {'_id': 'Thorne', 'minAgeByFamily': 28},\n",
       " {'_id': 'Gray', 'minAgeByFamily': 21}]"
      ]
     },
     "execution_count": 64,
     "metadata": {},
     "output_type": "execute_result"
    }
   ],
   "source": [
    "cur = collection_peaky.aggregate([{\"$group\" : {\"_id\" : \"$lastname\", \"minAgeByFamily\" : {\"$min\" : \"$age\"}}}])\n",
    "list(cur)\n"
   ]
  },
  {
   "cell_type": "code",
   "execution_count": 65,
   "metadata": {},
   "outputs": [
    {
     "data": {
      "text/plain": [
       "[{'_id': 'Shelby', 'lastAgeByFamily': 30},\n",
       " {'_id': 'Thorne', 'lastAgeByFamily': 28},\n",
       " {'_id': 'Gray', 'lastAgeByFamily': 45}]"
      ]
     },
     "execution_count": 65,
     "metadata": {},
     "output_type": "execute_result"
    }
   ],
   "source": [
    "cur = collection_peaky.aggregate([{\"$group\" : {\"_id\" : \"$lastname\", \"lastAgeByFamily\" : {\"$last\" : \"$age\"}}}])\n",
    "list(cur)\n"
   ]
  },
  {
   "cell_type": "markdown",
   "metadata": {},
   "source": [
    "On peut ajouter un paramètre à la fonction `aggregate()` pour filtrer les élements à aggréger.\n",
    "Si on ne veut récupérer que les hommes : \n"
   ]
  },
  {
   "cell_type": "code",
   "execution_count": 66,
   "metadata": {},
   "outputs": [
    {
     "data": {
      "text/plain": [
       "[{'_id': 'Shelby', 'averageAgeByFamily': 34.333333333333336},\n",
       " {'_id': 'Gray', 'averageAgeByFamily': 21.0}]"
      ]
     },
     "execution_count": 66,
     "metadata": {},
     "output_type": "execute_result"
    }
   ],
   "source": [
    "cur = collection_peaky.aggregate([\n",
    "        {\"$match\":{\"gender\":\"Male\"}},\n",
    "        {\"$group\" : {\"_id\" : \"$lastname\", \"averageAgeByFamily\" : {\"$avg\" : \"$age\"}}}\n",
    "    ])\n",
    "list(cur)"
   ]
  },
  {
   "cell_type": "markdown",
   "metadata": {},
   "source": [
    "\n",
    "Il est aussi possible d'intégrer directement du code JavaScript dans les requêtes Mongo. Des fonctions de Map->Reduce sont disponibles pour effectuer les fonctions d'aggrégation. L'opération de Map->Reduce se découpe en deux phases : \n",
    "\n",
    "- Phase de MAP : parcourt tous les élements et extrait les champs voulus.\n",
    "- Phase de REDUCE : utilise les champs retournés pour effectuer l'opération finale. "
   ]
  },
  {
   "cell_type": "code",
   "execution_count": 67,
   "metadata": {},
   "outputs": [],
   "source": [
    "map_function = '''function(){emit(this.lastname, this.age)}'''\n",
    "reduce_function = '''function(key,values){return Array.sum(values)}'''\n",
    "out = '''{query :{gender:\"Male\"}, out:\"sumAge\"}'''\n",
    "result = collection_peaky.map_reduce(\n",
    "        map_function, \n",
    "        reduce_function,\n",
    "        out)"
   ]
  },
  {
   "cell_type": "markdown",
   "metadata": {},
   "source": [
    "Pour récupérer maintenant les résultats : "
   ]
  },
  {
   "cell_type": "code",
   "execution_count": 68,
   "metadata": {},
   "outputs": [
    {
     "data": {
      "text/plain": [
       "[{'_id': 'Shelby', 'value': 103.0},\n",
       " {'_id': 'Thorne', 'value': 28.0},\n",
       " {'_id': 'Gray', 'value': 66.0}]"
      ]
     },
     "execution_count": 68,
     "metadata": {},
     "output_type": "execute_result"
    }
   ],
   "source": [
    "list(result.find())"
   ]
  },
  {
   "cell_type": "code",
   "execution_count": null,
   "metadata": {},
   "outputs": [],
   "source": []
  }
 ],
 "metadata": {
  "kernelspec": {
   "display_name": "Python 3",
   "language": "python",
   "name": "python3"
  },
  "language_info": {
   "codemirror_mode": {
    "name": "ipython",
    "version": 3
   },
   "file_extension": ".py",
   "mimetype": "text/x-python",
   "name": "python",
   "nbconvert_exporter": "python",
   "pygments_lexer": "ipython3",
   "version": "3.8.8"
  },
  "varInspector": {
   "cols": {
    "lenName": 16,
    "lenType": 16,
    "lenVar": 40
   },
   "kernels_config": {
    "python": {
     "delete_cmd_postfix": "",
     "delete_cmd_prefix": "del ",
     "library": "var_list.py",
     "varRefreshCmd": "print(var_dic_list())"
    },
    "r": {
     "delete_cmd_postfix": ") ",
     "delete_cmd_prefix": "rm(",
     "library": "var_list.r",
     "varRefreshCmd": "cat(var_dic_list()) "
    }
   },
   "types_to_exclude": [
    "module",
    "function",
    "builtin_function_or_method",
    "instance",
    "_Feature"
   ],
   "window_display": false
  }
 },
 "nbformat": 4,
 "nbformat_minor": 2
}
